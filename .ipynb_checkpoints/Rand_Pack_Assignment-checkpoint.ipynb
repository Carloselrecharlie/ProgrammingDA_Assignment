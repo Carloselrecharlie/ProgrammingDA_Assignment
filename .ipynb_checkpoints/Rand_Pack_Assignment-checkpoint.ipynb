{
 "cells": [
  {
   "cell_type": "markdown",
   "metadata": {},
   "source": [
    "# The Numpy random package\n",
    "### Carlos Montes   -   November 2018"
   ]
  },
  {
   "cell_type": "markdown",
   "metadata": {},
   "source": [
    "With this useful package we can easily generate radom numbers according to our needs. From one single number to really complex multidimensional arrays thanks to its numerous functions. \n",
    "\n",
    "\n",
    "\n",
    "\n",
    "\n",
    "## 1) Simple random data"
   ]
  },
  {
   "cell_type": "markdown",
   "metadata": {},
   "source": [
    "* There are three functions to generate **integers**, which are numbers without decimal points. These functions are *randint*, *random_integers* and *choice* :\n",
    "\n",
    "### *1.1) randint*\n",
    "We can generate a single number between 0 and a any positive we just need to enter the highest value we want +1 since the one we enter, N, is excluded [0,N) "
   ]
  },
  {
   "cell_type": "code",
   "execution_count": 1,
   "metadata": {},
   "outputs": [
    {
     "data": {
      "text/plain": [
       "6"
      ]
     },
     "execution_count": 1,
     "metadata": {},
     "output_type": "execute_result"
    }
   ],
   "source": [
    "# First of all we need to import the package. We also rename it as np to ease its use\n",
    "import numpy as np\n",
    "\n",
    "# if we want a random number between 0 and 10, N = 11\n",
    "np.random.randint(11)"
   ]
  },
  {
   "cell_type": "code",
   "execution_count": 2,
   "metadata": {},
   "outputs": [
    {
     "data": {
      "text/plain": [
       "3"
      ]
     },
     "execution_count": 2,
     "metadata": {},
     "output_type": "execute_result"
    }
   ],
   "source": [
    "# we can also specify a different minimum by adding it before the highest, in this case \n",
    "# low=-10 (range -10 to 10, both included)\n",
    "np.random.randint(-10,11)"
   ]
  },
  {
   "cell_type": "code",
   "execution_count": 3,
   "metadata": {},
   "outputs": [
    {
     "data": {
      "text/plain": [
       "array([ 0, -2,  5, -1,  0, -4])"
      ]
     },
     "execution_count": 3,
     "metadata": {},
     "output_type": "execute_result"
    }
   ],
   "source": [
    "# Also, we can set the number of elements we want in the array, in this case 6 of them (size=6):\n",
    "np.random.randint(-10,11,size=6)"
   ]
  },
  {
   "cell_type": "code",
   "execution_count": 4,
   "metadata": {},
   "outputs": [
    {
     "data": {
      "text/plain": [
       "<Figure size 640x480 with 1 Axes>"
      ]
     },
     "metadata": {},
     "output_type": "display_data"
    }
   ],
   "source": [
    "# they array returned follows a uniform random distribution where a finite number of values \n",
    "# are equally likely to be observed. I'll show that by plotting a 1000 element array, for which we\n",
    "# need to import matplotlib:\n",
    "import matplotlib.pyplot as plt\n",
    "x1 = np.random.randint(10, size = 1000)\n",
    "plt.hist(x1,bins=10) # if the number of bins is not specified, 9 & 10 are together in one bar\n",
    "plt.show()\n",
    "# Below we use a histogram to check visually that all possible outcomes have a similar likelihood\n",
    "# to be outputed. I chose a histogram for being a univariate distribution."
   ]
  },
  {
   "cell_type": "code",
   "execution_count": 5,
   "metadata": {},
   "outputs": [
    {
     "data": {
      "text/plain": [
       "array([[[3, 3, 1, 4, 3, 1],\n",
       "        [2, 4, 0, 1, 1, 4],\n",
       "        [2, 2, 0, 3, 4, 3],\n",
       "        [4, 2, 4, 0, 4, 2],\n",
       "        [4, 2, 3, 1, 3, 3]],\n",
       "\n",
       "       [[1, 2, 1, 2, 4, 2],\n",
       "        [0, 0, 4, 3, 4, 3],\n",
       "        [0, 4, 0, 4, 1, 2],\n",
       "        [2, 4, 0, 3, 3, 1],\n",
       "        [4, 4, 4, 0, 1, 4]],\n",
       "\n",
       "       [[4, 1, 4, 0, 2, 2],\n",
       "        [3, 4, 1, 3, 2, 3],\n",
       "        [0, 0, 3, 2, 0, 3],\n",
       "        [3, 2, 3, 3, 2, 4],\n",
       "        [4, 4, 3, 2, 1, 1]]])"
      ]
     },
     "execution_count": 5,
     "metadata": {},
     "output_type": "execute_result"
    }
   ],
   "source": [
    "# In addition we can shape the array in a more complex way by adding more arguments to the size\n",
    "np.random.randint(5, size=(3, 5, 6))\n",
    "# returns a 3D-array with five sub-arrays each one and six elements between 0 and 4 (5 is excluded)"
   ]
  },
  {
   "cell_type": "markdown",
   "metadata": {},
   "source": [
    "### 1.2) *random_integers*\n",
    "Very similar to randint but it also includes the high number and outputs an array of a discrete uniform distribution. Although, FUNCTION DEPRECATED!"
   ]
  },
  {
   "cell_type": "markdown",
   "metadata": {},
   "source": [
    "### 1.3) *choice*\n",
    "Function to create random arrays with either integers or strings. When it comes to integers the starting point is equivalent of np.arange(n), f.i: if we want to pick 5 random numbers from a list of 21 consecutive numbers, like [0,20] this command would first generate an array like the one below:"
   ]
  },
  {
   "cell_type": "code",
   "execution_count": 6,
   "metadata": {},
   "outputs": [
    {
     "data": {
      "text/plain": [
       "array([ 0,  1,  2,  3,  4,  5,  6,  7,  8,  9, 10, 11, 12, 13, 14, 15, 16,\n",
       "       17, 18, 19, 20])"
      ]
     },
     "execution_count": 6,
     "metadata": {},
     "output_type": "execute_result"
    }
   ],
   "source": [
    "np.arange(21)"
   ]
  },
  {
   "cell_type": "markdown",
   "metadata": {},
   "source": [
    "And then it would pick 5 random samples. I repeated this one hundred times to check whether or not"
   ]
  },
  {
   "cell_type": "code",
   "execution_count": 7,
   "metadata": {
    "scrolled": true
   },
   "outputs": [
    {
     "data": {
      "text/plain": [
       "[array([10, 10,  3, 11,  1]),\n",
       " array([ 4,  8, 12, 18,  2]),\n",
       " array([13, 17,  7,  6,  8]),\n",
       " array([12, 17,  4,  7,  6]),\n",
       " array([ 5,  1,  4,  2, 13]),\n",
       " array([13, 16, 17, 19, 12]),\n",
       " array([12,  3,  8,  3,  4]),\n",
       " array([ 3,  8, 18,  6, 20]),\n",
       " array([ 5,  4, 12, 19,  3]),\n",
       " array([10, 16, 13,  3, 15]),\n",
       " array([ 7,  9, 15,  3,  1]),\n",
       " array([ 9,  8,  4, 16,  0]),\n",
       " array([ 5, 14, 15, 12,  0]),\n",
       " array([ 0, 12, 18,  0,  5]),\n",
       " array([ 9, 18,  1, 15, 17]),\n",
       " array([ 2, 15, 16,  4,  2]),\n",
       " array([ 0, 11, 12, 19,  5]),\n",
       " array([12, 10, 11, 12, 10]),\n",
       " array([ 0, 18, 10,  8, 20]),\n",
       " array([11, 20, 13,  2,  8]),\n",
       " array([ 1,  8, 12,  5,  8]),\n",
       " array([10,  7, 19, 20,  0]),\n",
       " array([ 0,  9,  5,  5, 15]),\n",
       " array([14,  3,  5, 20, 10]),\n",
       " array([15,  0, 11, 12, 13]),\n",
       " array([ 6, 15,  6,  7,  0]),\n",
       " array([ 7, 19,  1,  6,  3]),\n",
       " array([16,  3, 12, 14, 16]),\n",
       " array([20,  3,  0,  9,  3]),\n",
       " array([15,  2, 19, 19, 10]),\n",
       " array([2, 0, 9, 0, 1]),\n",
       " array([11, 19,  1, 20, 17]),\n",
       " array([13,  3,  0, 19, 16]),\n",
       " array([ 1,  4, 17, 17, 18]),\n",
       " array([14, 12, 14, 13, 11]),\n",
       " array([ 9, 11, 20, 14,  0]),\n",
       " array([ 0, 12, 10,  5,  2]),\n",
       " array([12,  3, 20, 12, 14]),\n",
       " array([18,  3,  2, 15, 20]),\n",
       " array([18, 16, 20, 20,  1]),\n",
       " array([11, 10,  7, 15, 11]),\n",
       " array([ 2, 12,  4, 19, 18]),\n",
       " array([16,  5, 19,  5,  2]),\n",
       " array([20,  1,  3, 14, 18]),\n",
       " array([17,  6,  2, 18,  3]),\n",
       " array([15, 12,  2,  4,  9]),\n",
       " array([16, 10, 16, 13,  1]),\n",
       " array([ 2,  1,  4,  8, 17]),\n",
       " array([20, 10,  2,  8,  1]),\n",
       " array([16, 18,  0,  4, 15]),\n",
       " array([4, 5, 7, 2, 1]),\n",
       " array([12, 11,  2,  9, 16]),\n",
       " array([ 3,  8,  1, 15,  1]),\n",
       " array([ 6,  8, 17, 17, 11]),\n",
       " array([15,  9, 18, 10, 15]),\n",
       " array([20, 12, 17,  1, 14]),\n",
       " array([ 1, 19,  2, 12, 12]),\n",
       " array([10, 15,  0, 12, 12]),\n",
       " array([14,  8, 16,  8,  9]),\n",
       " array([12, 10,  7, 20, 16]),\n",
       " array([ 2, 15, 18, 15, 19]),\n",
       " array([ 8,  1,  9, 18,  5]),\n",
       " array([16, 14, 16, 13,  5]),\n",
       " array([ 6,  2,  6,  4, 11]),\n",
       " array([20, 12, 18, 12, 19]),\n",
       " array([ 4,  0,  2, 15, 10]),\n",
       " array([ 4, 13,  8,  0, 18]),\n",
       " array([10, 13, 17, 17, 15]),\n",
       " array([10,  8, 11,  4, 19]),\n",
       " array([ 7,  1, 20,  9, 18]),\n",
       " array([ 9,  8, 14,  2,  8]),\n",
       " array([14,  6,  5,  2,  6]),\n",
       " array([18, 13,  1, 15,  5]),\n",
       " array([17,  8, 18,  3, 10]),\n",
       " array([ 4, 19,  6,  9, 19]),\n",
       " array([12,  3,  9,  9, 11]),\n",
       " array([ 4,  2, 14, 16, 12]),\n",
       " array([10,  6, 20,  2,  6]),\n",
       " array([20, 11,  4, 15, 15]),\n",
       " array([17, 10, 13, 10, 20]),\n",
       " array([11,  0,  5,  9, 12]),\n",
       " array([ 0, 16, 16, 18,  9]),\n",
       " array([ 8, 11, 19,  4,  6]),\n",
       " array([ 4, 20,  1,  7, 19]),\n",
       " array([ 1, 15,  0, 16,  4]),\n",
       " array([ 0,  1,  9, 17,  4]),\n",
       " array([ 4,  3, 12, 12, 17]),\n",
       " array([16,  1, 12,  9,  2]),\n",
       " array([16,  3, 17,  1, 17]),\n",
       " array([11, 16, 17, 16,  3]),\n",
       " array([ 4, 16,  0,  6, 16]),\n",
       " array([ 2,  2, 18, 20, 14]),\n",
       " array([11,  6,  7, 18,  9]),\n",
       " array([16,  9, 15,  5, 16]),\n",
       " array([20, 18, 15,  6,  0]),\n",
       " array([ 6, 13, 16,  1, 17]),\n",
       " array([1, 5, 6, 2, 8]),\n",
       " array([ 2, 18, 16, 11, 19]),\n",
       " array([15, 20,  9,  3,  9]),\n",
       " array([ 2, 12, 15,  4, 19])]"
      ]
     },
     "execution_count": 7,
     "metadata": {},
     "output_type": "execute_result"
    }
   ],
   "source": [
    "test1 = [np.random.choice(21, 5) for i in range(100)]\n",
    "test1"
   ]
  },
  {
   "cell_type": "code",
   "execution_count": 8,
   "metadata": {},
   "outputs": [
    {
     "data": {
      "text/plain": [
       "<function matplotlib.pyplot.show(*args, **kw)>"
      ]
     },
     "execution_count": 8,
     "metadata": {},
     "output_type": "execute_result"
    },
    {
     "data": {
      "image/png": "[encoded data removed]",
      "text/plain": [
       "<Figure size 432x288 with 1 Axes>"
      ]
     },
     "metadata": {},
     "output_type": "display_data"
    }
   ],
   "source": [
    "plt.hist(test1, bins=21)\n",
    "plt.show\n",
    "# The y axis shows the number of ocurrences per sample and some bars are taller than others, so some numbers were \n",
    "# picked more than once. "
   ]
  },
  {
   "cell_type": "code",
   "execution_count": 9,
   "metadata": {
    "scrolled": true
   },
   "outputs": [
    {
     "data": {
      "text/plain": [
       "[array([ 8,  3, 19,  7,  0]),\n",
       " array([ 5,  0,  6, 20, 17]),\n",
       " array([11, 13,  2, 18, 17]),\n",
       " array([ 4,  8,  6,  9, 14]),\n",
       " array([20, 17,  2,  7, 12]),\n",
       " array([ 2,  5,  0,  9, 17]),\n",
       " array([ 1,  3, 18, 10,  5]),\n",
       " array([ 4,  5, 13, 12,  3]),\n",
       " array([ 5,  7,  3, 15, 19]),\n",
       " array([16,  2, 10,  8, 13]),\n",
       " array([20,  6, 15, 17,  3]),\n",
       " array([18,  4,  8, 11, 19]),\n",
       " array([17,  8, 14, 12, 16]),\n",
       " array([ 8,  2, 13, 12, 18]),\n",
       " array([ 5,  8,  4,  9, 18]),\n",
       " array([11, 20, 13,  3,  9]),\n",
       " array([ 3, 17,  0,  5,  9]),\n",
       " array([13,  5, 11,  6, 12]),\n",
       " array([16, 11,  0,  3,  6]),\n",
       " array([12,  6, 13, 17,  3]),\n",
       " array([ 1, 20, 18,  6, 15]),\n",
       " array([ 6,  4,  0, 15, 10]),\n",
       " array([11,  7, 19, 12, 13]),\n",
       " array([15, 18,  7, 19,  8]),\n",
       " array([17, 20, 18, 16,  5]),\n",
       " array([ 9, 18,  4,  7, 10]),\n",
       " array([ 0, 10,  3,  6, 19]),\n",
       " array([13,  6,  1, 20, 11]),\n",
       " array([11, 13, 14,  5,  1]),\n",
       " array([ 8, 14,  4, 13,  0]),\n",
       " array([ 4, 10,  1, 20, 17]),\n",
       " array([ 9, 20,  4, 15, 11]),\n",
       " array([ 0,  4,  8, 12,  1]),\n",
       " array([12, 18, 19,  3, 15]),\n",
       " array([13,  0,  6, 19,  9]),\n",
       " array([ 2, 14,  1, 16,  6]),\n",
       " array([ 3,  0,  9, 20,  6]),\n",
       " array([ 7, 10, 15, 16, 19]),\n",
       " array([12, 14,  2, 19,  7]),\n",
       " array([13,  3, 19,  6,  5]),\n",
       " array([17, 13,  8,  9, 11]),\n",
       " array([20, 15, 10,  5, 18]),\n",
       " array([ 0, 10, 18,  5, 11]),\n",
       " array([16,  6,  7, 10,  9]),\n",
       " array([15,  7,  2,  5, 10]),\n",
       " array([16, 10, 11, 18,  2]),\n",
       " array([11,  1,  6, 18, 19]),\n",
       " array([ 4,  6, 19,  8,  5]),\n",
       " array([10, 15, 16, 18, 11]),\n",
       " array([16,  7,  1, 12,  5]),\n",
       " array([16,  9, 20,  7, 17]),\n",
       " array([14,  3, 11,  6,  7]),\n",
       " array([18,  6, 13, 15,  1]),\n",
       " array([ 4,  8, 16,  1, 14]),\n",
       " array([ 5, 17, 13,  0, 14]),\n",
       " array([ 9,  5,  1, 10,  0]),\n",
       " array([ 2,  0,  1, 12, 20]),\n",
       " array([ 6,  7, 15,  2,  5]),\n",
       " array([20, 13, 15,  4, 19]),\n",
       " array([ 6, 20, 19, 18,  5]),\n",
       " array([ 8,  0,  4, 17, 20]),\n",
       " array([ 7, 11, 17,  2,  0]),\n",
       " array([ 2, 11, 13,  7,  4]),\n",
       " array([ 7,  1,  5, 14, 11]),\n",
       " array([15, 11,  2,  5,  6]),\n",
       " array([ 0,  6,  4, 15,  1]),\n",
       " array([11, 18, 17,  9, 20]),\n",
       " array([ 2,  6, 15,  8,  5]),\n",
       " array([ 6,  4, 19,  9, 11]),\n",
       " array([14, 15, 17, 20, 10]),\n",
       " array([14,  8, 10, 13,  9]),\n",
       " array([12,  4, 15,  6, 16]),\n",
       " array([ 0,  1,  5,  6, 20]),\n",
       " array([ 9, 17, 11, 14,  6]),\n",
       " array([20,  8, 13,  3,  7]),\n",
       " array([ 1,  5,  3, 14,  7]),\n",
       " array([11, 15,  4,  1,  0]),\n",
       " array([18, 13, 17, 20,  6]),\n",
       " array([12,  0, 11,  6, 18]),\n",
       " array([12,  9,  5,  7, 14]),\n",
       " array([ 1,  4, 16, 12, 17]),\n",
       " array([14,  3, 20, 16, 18]),\n",
       " array([14,  2, 12,  1, 10]),\n",
       " array([14,  6,  0,  9,  5]),\n",
       " array([19,  7,  1, 18, 12]),\n",
       " array([15, 13,  8, 19, 20]),\n",
       " array([ 0, 16, 15, 19,  6]),\n",
       " array([ 0,  7, 13, 16, 11]),\n",
       " array([ 1,  8,  2, 14, 19]),\n",
       " array([ 3,  0, 16, 12,  1]),\n",
       " array([ 2,  1,  3,  5, 18]),\n",
       " array([13,  0,  7, 11, 20]),\n",
       " array([19, 11, 16,  1,  4]),\n",
       " array([19, 11, 17,  9,  7]),\n",
       " array([ 0,  1, 11, 15, 17]),\n",
       " array([ 1, 16, 14, 12, 11]),\n",
       " array([17, 15, 16, 11,  9]),\n",
       " array([14, 10, 12,  3, 17]),\n",
       " array([20,  3, 17, 13,  4]),\n",
       " array([20,  6, 19, 17, 18])]"
      ]
     },
     "execution_count": 9,
     "metadata": {},
     "output_type": "execute_result"
    }
   ],
   "source": [
    "# We can prevent the fact mentioned in the previous code cell by adding replace=False \n",
    "test2 = [np.random.choice(21, 5, replace=False) for i in range(100)]\n",
    "test2"
   ]
  },
  {
   "cell_type": "code",
   "execution_count": 10,
   "metadata": {},
   "outputs": [
    {
     "data": {
      "text/plain": [
       "<function matplotlib.pyplot.show(*args, **kw)>"
      ]
     },
     "execution_count": 10,
     "metadata": {},
     "output_type": "execute_result"
    },
    {
     "data": {
      "image/png": "[encoded data removed]",
      "text/plain": [
       "<Figure size 432x288 with 1 Axes>"
      ]
     },
     "metadata": {},
     "output_type": "display_data"
    }
   ],
   "source": [
    "plt.hist(test2, bins=21)\n",
    "plt.show\n",
    "# no bar goes beyond the hight of y = 1"
   ]
  },
  {
   "cell_type": "markdown",
   "metadata": {},
   "source": [
    "These are uniform samples but we can modify the likelihood of every entry in n by entering the desired probabilities:"
   ]
  },
  {
   "cell_type": "code",
   "execution_count": 11,
   "metadata": {},
   "outputs": [
    {
     "data": {
      "text/plain": [
       "array([1, 1], dtype=int64)"
      ]
     },
     "execution_count": 11,
     "metadata": {},
     "output_type": "execute_result"
    }
   ],
   "source": [
    "np.random.choice(6, 2, p=[0, 0.15, 0.25, 0.15, 0.35, 0.10])\n",
    "# there are 6 entries so we need to specify the likelyhood for each one of them, adding up 1 in total or else, error"
   ]
  },
  {
   "cell_type": "markdown",
   "metadata": {},
   "source": [
    "And here an example that involves the features mentioned above but with an array of strings :"
   ]
  },
  {
   "cell_type": "code",
   "execution_count": 12,
   "metadata": {},
   "outputs": [
    {
     "data": {
      "text/plain": [
       "array(['blueberrie', 'pear', 'apple', 'orange', 'melon'], dtype='<U10')"
      ]
     },
     "execution_count": 12,
     "metadata": {},
     "output_type": "execute_result"
    }
   ],
   "source": [
    "fruits = ['orange', 'papaya', 'apple', 'melon', 'blueberrie', 'pear']\n",
    "np.random.choice(fruits, 5, replace=False, p=[0.1, 0.05, 0.1, 0.3, 0.2, 0.25])"
   ]
  },
  {
   "cell_type": "markdown",
   "metadata": {},
   "source": [
    "* When it comes to **floats** we have other functions:\n",
    "\n",
    "### 1.4) *rand* and *random_sample*\n",
    "It generates a uniform distribution (like *randint*) of float numbers between 0 and 1, where 0 is included and 1 excluded [0, 1). Same as before we can shape it with arguments."
   ]
  },
  {
   "cell_type": "code",
   "execution_count": 13,
   "metadata": {
    "scrolled": true
   },
   "outputs": [
    {
     "data": {
      "image/png": "[encoded data removed]",
      "text/plain": [
       "<Figure size 432x288 with 1 Axes>"
      ]
     },
     "metadata": {},
     "output_type": "display_data"
    }
   ],
   "source": [
    "# we take 100000 random samples\n",
    "x2 = np.random.rand(10000)\n",
    "plt.hist(x2, bins=50) \n",
    "plt.show()\n",
    "# despite there are many bins the representation looks quite homogeneous"
   ]
  },
  {
   "cell_type": "markdown",
   "metadata": {},
   "source": [
    "Similarly, *random_sample* generate samples from the uniform distribution on [0, 1). The only difference is in how the arguments are handled. With *rand*, the shapes of the output array are separate arguments whereas with *random_sample* the shape argument is a single tuple (z)\n",
    "\n",
    "For example, to create an array of samples with shape (4, 6), we can write\n",
    "\n",
    "sample = np.random.rand(4, 6)\n",
    "\n",
    "or\n",
    "\n",
    "sample = np.random.random_sample((4, 6))\n",
    "\n",
    "\n",
    "* Note that the function *random_sample* is also referred to as:\n",
    "\n",
    "    - *np.random.random*\n",
    "\n",
    "    - *np.random.ranf*\n",
    "\n",
    "    - *np.random.sample*"
   ]
  },
  {
   "cell_type": "code",
   "execution_count": 14,
   "metadata": {},
   "outputs": [
    {
     "data": {
      "text/plain": [
       "<function RandomState.random_sample>"
      ]
     },
     "execution_count": 14,
     "metadata": {},
     "output_type": "execute_result"
    }
   ],
   "source": [
    "np.random.random"
   ]
  },
  {
   "cell_type": "code",
   "execution_count": 15,
   "metadata": {},
   "outputs": [
    {
     "data": {
      "text/plain": [
       "True"
      ]
     },
     "execution_count": 15,
     "metadata": {},
     "output_type": "execute_result"
    }
   ],
   "source": [
    "np.random.random_sample is np.random.random"
   ]
  },
  {
   "cell_type": "code",
   "execution_count": 16,
   "metadata": {},
   "outputs": [
    {
     "data": {
      "text/plain": [
       "<function RandomState.random_sample>"
      ]
     },
     "execution_count": 16,
     "metadata": {},
     "output_type": "execute_result"
    }
   ],
   "source": [
    "np.random.ranf"
   ]
  },
  {
   "cell_type": "code",
   "execution_count": 17,
   "metadata": {},
   "outputs": [
    {
     "data": {
      "text/plain": [
       "True"
      ]
     },
     "execution_count": 17,
     "metadata": {},
     "output_type": "execute_result"
    }
   ],
   "source": [
    "np.random.random_sample is np.random.ranf"
   ]
  },
  {
   "cell_type": "code",
   "execution_count": 18,
   "metadata": {},
   "outputs": [
    {
     "data": {
      "text/plain": [
       "<function RandomState.random_sample>"
      ]
     },
     "execution_count": 18,
     "metadata": {},
     "output_type": "execute_result"
    }
   ],
   "source": [
    "np.random.sample"
   ]
  },
  {
   "cell_type": "code",
   "execution_count": 19,
   "metadata": {
    "scrolled": true
   },
   "outputs": [
    {
     "data": {
      "text/plain": [
       "True"
      ]
     },
     "execution_count": 19,
     "metadata": {},
     "output_type": "execute_result"
    }
   ],
   "source": [
    "np.random.random_sample is np.random.sample"
   ]
  },
  {
   "cell_type": "markdown",
   "metadata": {},
   "source": [
    "### 1.5) randn\n",
    "This command generates an array of data according to the shape we specified. It also considers the median around which the samples would be. Also the variance can be an input, the greater it is, the bigger the dispersion of the sample is in relation to the mean. This is a univariative normal disribution also known as Gauss distribution which has a typical bell-like shape.\n",
    "\n",
    "variance * np.random.randn(...) + median"
   ]
  },
  {
   "cell_type": "code",
   "execution_count": 20,
   "metadata": {},
   "outputs": [
    {
     "data": {
      "text/plain": [
       "array([[6.32818798, 6.13274002],\n",
       "       [5.2962727 , 6.72680666],\n",
       "       [6.04066281, 6.4164163 ]])"
      ]
     },
     "execution_count": 20,
     "metadata": {},
     "output_type": "execute_result"
    }
   ],
   "source": [
    "0.5 * np.random.randn(3,2) + 6\n",
    "# All the samples outputed are relatively near the median, 6, because the variance is low"
   ]
  },
  {
   "cell_type": "code",
   "execution_count": 21,
   "metadata": {},
   "outputs": [
    {
     "data": {
      "text/plain": [
       "array([[7.30555735, 8.39923321],\n",
       "       [3.58473456, 5.29389352],\n",
       "       [3.9706272 , 4.41137347]])"
      ]
     },
     "execution_count": 21,
     "metadata": {},
     "output_type": "execute_result"
    }
   ],
   "source": [
    "3 * np.random.randn(3,2) + 6\n",
    "# All the samples outputed are further to the median because the variance is greater"
   ]
  },
  {
   "cell_type": "code",
   "execution_count": 22,
   "metadata": {
    "scrolled": true
   },
   "outputs": [
    {
     "data": {
      "image/png": "[encoded data removed]",
      "text/plain": [
       "<Figure size 432x288 with 1 Axes>"
      ]
     },
     "metadata": {},
     "output_type": "display_data"
    }
   ],
   "source": [
    "x3 = 6 * np.random.randn(1000) + 3\n",
    "plt.hist(x3)\n",
    "plt.show()\n",
    "# The bell-shaped histogram reveals the type of distribution"
   ]
  },
  {
   "cell_type": "markdown",
   "metadata": {},
   "source": [
    "On the other hand we can specify the range where the samples will be taken out of. In general, the desired range is [a,b) being b > a, then we just need to multiply the output of the function by (b - a) and finally add a. For instance, to create an array of random numbers between -10 and 10 (10 excluded) we have the following values:\n",
    "\t- [-10, 10)\n",
    "    - a = -10\n",
    "    - b = 10\n",
    "    - b - a = 10 - (-10) = 20\n",
    "    \n",
    "And therefore the code is as follows:"
   ]
  },
  {
   "cell_type": "code",
   "execution_count": 23,
   "metadata": {},
   "outputs": [
    {
     "data": {
      "text/plain": [
       "array([[-0.5585916 , -2.84420557,  2.89655229, -0.8081531 ],\n",
       "       [-1.81229038, -0.06772929,  5.72136516,  1.93753104],\n",
       "       [-6.72072873, -4.51748619,  9.15212612,  1.50180823],\n",
       "       [ 9.99422837,  6.3252117 ,  0.22975967,  1.21182085],\n",
       "       [ 4.90581251,  1.66150274, -5.28113341, -1.81944362]])"
      ]
     },
     "execution_count": 23,
     "metadata": {},
     "output_type": "execute_result"
    }
   ],
   "source": [
    "20 * np.random.random((5, 4)) - 10"
   ]
  },
  {
   "cell_type": "markdown",
   "metadata": {},
   "source": [
    "As we can see all the numbers generated in this 2D array fall within the range set"
   ]
  },
  {
   "cell_type": "markdown",
   "metadata": {},
   "source": [
    "### 1.6) *bytes*\n",
    "This function returns a string of random bytes whose length is specified by the user with an integer within brackets. F.i. n = 6"
   ]
  },
  {
   "cell_type": "code",
   "execution_count": 24,
   "metadata": {},
   "outputs": [
    {
     "data": {
      "text/plain": [
       "b'b\\xc5k\\x12cs'"
      ]
     },
     "execution_count": 24,
     "metadata": {},
     "output_type": "execute_result"
    }
   ],
   "source": [
    "np.random.bytes(6)"
   ]
  },
  {
   "cell_type": "markdown",
   "metadata": {},
   "source": [
    "## 2) Permutations\n",
    "### 2.1) *shuffle*\n",
    "In this case it's not about creating but just modifying, we already have an array and we can turn to numpy to change the order of the elements within the array. In case we have an array with a dimesion greater than 1 it just modifies the order of the subarrays"
   ]
  },
  {
   "cell_type": "code",
   "execution_count": 25,
   "metadata": {},
   "outputs": [
    {
     "name": "stdout",
     "output_type": "stream",
     "text": [
      "Array generated:\n",
      "[[ 0  1  2]\n",
      " [ 3  4  5]\n",
      " [ 6  7  8]\n",
      " [ 9 10 11]]\n",
      "\n",
      "Array shuffled\n",
      "[[ 6  7  8]\n",
      " [ 9 10 11]\n",
      " [ 3  4  5]\n",
      " [ 0  1  2]]\n"
     ]
    },
    {
     "data": {
      "image/png": "[encoded data removed]",
      "text/plain": [
       "<Figure size 432x288 with 1 Axes>"
      ]
     },
     "metadata": {},
     "output_type": "display_data"
    }
   ],
   "source": [
    "# Array generation, reshape and print\n",
    "arr = np.arange(12).reshape((4, 3))\n",
    "print(\"Array generated:\")\n",
    "print(arr)\n",
    "print()\n",
    "print(\"Array shuffled\")\n",
    "\n",
    "# Plot, shuffle and replot\n",
    "plt.plot(arr)\n",
    "np.random.shuffle(arr)\n",
    "print(arr)\n",
    "plt.plot(arr)\n",
    "plt.grid()\n",
    "plt.show()\n",
    "# We can see below that only the order of the subarrays change, neither the values of the samples nor the order of the \n",
    "# elements within every subarray"
   ]
  },
  {
   "cell_type": "markdown",
   "metadata": {},
   "source": [
    "The three straight lines with a positive slope represent the original array and will remain the same no matter now many times we execute the code. The other three lines represent the shuffled array and do change, but just the order of the values of the first axis, the vertical one"
   ]
  },
  {
   "cell_type": "markdown",
   "metadata": {},
   "source": [
    "### 2.2) *permutation*"
   ]
  },
  {
   "cell_type": "markdown",
   "metadata": {},
   "source": [
    "# References:\n",
    "https://docs.scipy.org/doc/numpy-1.14.1/reference/routines.random.html\n",
    "https://chrisalbon.com/python/basics/generating_random_numbers_with_numpy/\n",
    "https://en.wikipedia.org/wiki/Discrete_uniform_distribution \n",
    "(z) [stackoverflow](https://stackoverflow.com/questions/47231852/np-random-rand-vs-np-random-random)\n",
    "[aliases](https://stackoverflow.com/questions/18829185/difference-between-various-numpy-random-functions?noredirect=1&lq=1)"
   ]
  },
  {
   "cell_type": "code",
   "execution_count": null,
   "metadata": {},
   "outputs": [],
   "source": []
  }
 ],
 "metadata": {
  "kernelspec": {
   "display_name": "Python 3",
   "language": "python",
   "name": "python3"
  },
  "language_info": {
   "codemirror_mode": {
    "name": "ipython",
    "version": 3
   },
   "file_extension": ".py",
   "mimetype": "text/x-python",
   "name": "python",
   "nbconvert_exporter": "python",
   "pygments_lexer": "ipython3",
   "version": "3.6.5"
  }
 },
 "nbformat": 4,
 "nbformat_minor": 2
}
