{
 "cells": [
  {
   "cell_type": "markdown",
   "metadata": {},
   "source": [
    "# The Numpy random package\n",
    "### Carlos Montes   -   November 2018"
   ]
  },
  {
   "cell_type": "markdown",
   "metadata": {},
   "source": [
    "With this useful package we can easily generate radom numbers according to our needs. From one single number to really complex multidimensional arrays thanks to its numerous functions. \n",
    "\n",
    "\n",
    "\n",
    "\n",
    "\n",
    "## 1) Simple random data"
   ]
  },
  {
   "cell_type": "markdown",
   "metadata": {},
   "source": [
    "* There are two functions to generate **integers**, which are numbers without decimal points. These functions are *randint* and *random_integers*.\n",
    "\n",
    "### *1.1) randint*\n",
    "We can generate a single number between 0 and a any positive we just need to enter the highest value we want +1 since the one we enter, N, is excluded [0,N) "
   ]
  },
  {
   "cell_type": "code",
   "execution_count": 1,
   "metadata": {},
   "outputs": [
    {
     "data": {
      "text/plain": [
       "2"
      ]
     },
     "execution_count": 1,
     "metadata": {},
     "output_type": "execute_result"
    }
   ],
   "source": [
    "# First of all we need to import the package. We also rename it as np to ease its use\n",
    "import numpy as np\n",
    "\n",
    "# if we want a random number between 0 and 10, N = 11\n",
    "np.random.randint(11)"
   ]
  },
  {
   "cell_type": "code",
   "execution_count": 2,
   "metadata": {},
   "outputs": [
    {
     "data": {
      "text/plain": [
       "-10"
      ]
     },
     "execution_count": 2,
     "metadata": {},
     "output_type": "execute_result"
    }
   ],
   "source": [
    "# we can also specify a different minimum by adding it before the highest, in this case \n",
    "# low=-10 (range -10 to 10, both included)\n",
    "np.random.randint(-10,11)"
   ]
  },
  {
   "cell_type": "code",
   "execution_count": 3,
   "metadata": {},
   "outputs": [
    {
     "data": {
      "text/plain": [
       "array([ 2,  0, -5, -6, -3, -9])"
      ]
     },
     "execution_count": 3,
     "metadata": {},
     "output_type": "execute_result"
    }
   ],
   "source": [
    "# Also, we can set the number of elements we want in the array, in this case 6 of them (size=6):\n",
    "np.random.randint(-10,11,size=6)"
   ]
  },
  {
   "cell_type": "code",
   "execution_count": 4,
   "metadata": {},
   "outputs": [
    {
     "data": {
      "text/plain": [
       "<Figure size 640x480 with 1 Axes>"
      ]
     },
     "metadata": {},
     "output_type": "display_data"
    }
   ],
   "source": [
    "# they array returned follows a uniform random distribution where a finite number of values \n",
    "# are equally likely to be observed. I'll show that by plotting a 1000 element array, for which we\n",
    "# need to import matplotlib:\n",
    "import matplotlib.pyplot as plt\n",
    "x1 = np.random.randint(10, size = 1000)\n",
    "plt.hist(x1,bins=10) # if the number of bins is not specified, 9 & 10 are together in one bar\n",
    "plt.show()\n",
    "# Below we use a histogram to check visually that all possible outcomes have a similar likelihood\n",
    "# to be outputed. I chose a histogram for being a univariate distribution."
   ]
  },
  {
   "cell_type": "code",
   "execution_count": 5,
   "metadata": {},
   "outputs": [
    {
     "data": {
      "text/plain": [
       "array([[[3, 0, 3, 2, 2, 0],\n",
       "        [1, 4, 2, 4, 4, 2],\n",
       "        [2, 2, 2, 4, 3, 1],\n",
       "        [4, 0, 1, 2, 4, 2],\n",
       "        [1, 0, 4, 3, 0, 4]],\n",
       "\n",
       "       [[3, 4, 0, 1, 1, 3],\n",
       "        [0, 4, 1, 0, 0, 0],\n",
       "        [1, 0, 1, 1, 4, 2],\n",
       "        [0, 1, 3, 1, 4, 2],\n",
       "        [1, 3, 3, 1, 1, 2]],\n",
       "\n",
       "       [[1, 1, 1, 4, 2, 2],\n",
       "        [1, 1, 2, 3, 4, 3],\n",
       "        [0, 1, 1, 2, 4, 1],\n",
       "        [0, 2, 2, 1, 1, 4],\n",
       "        [4, 0, 1, 1, 0, 1]]])"
      ]
     },
     "execution_count": 5,
     "metadata": {},
     "output_type": "execute_result"
    }
   ],
   "source": [
    "# In addition we can shape the array in a more complex way by adding more arguments to the size\n",
    "np.random.randint(5, size=(3, 5, 6))\n",
    "# returns a 3D-array with five sub-arrays each one and six elements between 0 and 4 (5 is excluded)"
   ]
  },
  {
   "cell_type": "markdown",
   "metadata": {},
   "source": [
    "### 1.2) *random_integers*\n",
    "Very similar to randint but it also includes the high number and outputs an array of a discrete uniform distribution. Although, FUNCTION DEPRECATED!\n",
    "\n",
    "* When it comes to **floats** we have other functions:\n",
    "\n",
    "### 1.3) *rand* and *random_sample*\n",
    "It generates a uniform distribution (like *randint*) of float numbers between 0 and 1, where 0 is included and 1 excluded [0, 1). Same as before we can shape it with arguments."
   ]
  },
  {
   "cell_type": "code",
   "execution_count": 6,
   "metadata": {},
   "outputs": [
    {
     "data": {
      "image/png": "[encoded data removed]",
      "text/plain": [
       "<Figure size 432x288 with 1 Axes>"
      ]
     },
     "metadata": {},
     "output_type": "display_data"
    }
   ],
   "source": [
    "# we take 100000 random samples\n",
    "x2 = np.random.rand(10000)\n",
    "plt.hist(x2, bins=50) \n",
    "plt.show()\n",
    "# despite there are many bins the representation looks quite homogeneous"
   ]
  },
  {
   "cell_type": "markdown",
   "metadata": {},
   "source": [
    "Similarly, *random_sample* generate samples from the uniform distribution on [0, 1). The only difference is in how the arguments are handled. With *rand*, the shapes of the output array are separate arguments whereas with *random_sample* the shape argument is a single tuple (z)\n",
    "\n",
    "For example, to create an array of samples with shape (4, 6), we can write\n",
    "\n",
    "sample = np.random.rand(4, 6)\n",
    "\n",
    "or\n",
    "\n",
    "sample = np.random.random_sample((4, 6))\n",
    "\n",
    "- In the same way, the function *random_sample* is also referred to as:\n",
    "\n",
    "    - *np.random.random*\n",
    "\n",
    "    - *np.random.ranf*\n",
    "\n",
    "    - *np.random.sample*"
   ]
  },
  {
   "cell_type": "code",
   "execution_count": 7,
   "metadata": {},
   "outputs": [
    {
     "data": {
      "text/plain": [
       "<function RandomState.random_sample>"
      ]
     },
     "execution_count": 7,
     "metadata": {},
     "output_type": "execute_result"
    }
   ],
   "source": [
    "np.random.random"
   ]
  },
  {
   "cell_type": "code",
   "execution_count": 8,
   "metadata": {},
   "outputs": [
    {
     "data": {
      "text/plain": [
       "True"
      ]
     },
     "execution_count": 8,
     "metadata": {},
     "output_type": "execute_result"
    }
   ],
   "source": [
    "np.random.random_sample is np.random.random"
   ]
  },
  {
   "cell_type": "code",
   "execution_count": 9,
   "metadata": {},
   "outputs": [
    {
     "data": {
      "text/plain": [
       "<function RandomState.random_sample>"
      ]
     },
     "execution_count": 9,
     "metadata": {},
     "output_type": "execute_result"
    }
   ],
   "source": [
    "np.random.ranf"
   ]
  },
  {
   "cell_type": "code",
   "execution_count": 10,
   "metadata": {},
   "outputs": [
    {
     "data": {
      "text/plain": [
       "True"
      ]
     },
     "execution_count": 10,
     "metadata": {},
     "output_type": "execute_result"
    }
   ],
   "source": [
    "np.random.random_sample is np.random.ranf"
   ]
  },
  {
   "cell_type": "code",
   "execution_count": 11,
   "metadata": {},
   "outputs": [
    {
     "data": {
      "text/plain": [
       "<function RandomState.random_sample>"
      ]
     },
     "execution_count": 11,
     "metadata": {},
     "output_type": "execute_result"
    }
   ],
   "source": [
    "np.random.sample"
   ]
  },
  {
   "cell_type": "code",
   "execution_count": 12,
   "metadata": {},
   "outputs": [
    {
     "data": {
      "text/plain": [
       "True"
      ]
     },
     "execution_count": 12,
     "metadata": {},
     "output_type": "execute_result"
    }
   ],
   "source": [
    "np.random.random_sample is np.random.sample"
   ]
  },
  {
   "cell_type": "markdown",
   "metadata": {},
   "source": [
    "On the other hand we can specify the range where the samples will be taken out of. In general, the desired range is [a,b) being b > a, then we just need to multiply the output of the function by (b - a) and finally add a. For instance, to create an array of random numbers between -10 and 10 (10 excluded) we have the following values:\n",
    "\t- [-10, 10)\n",
    "    - a = -10\n",
    "    - b = 10\n",
    "    - b - a = 10 - (-10) = 20\n",
    "    \n",
    "And therefore the code is as follows:"
   ]
  },
  {
   "cell_type": "code",
   "execution_count": 13,
   "metadata": {},
   "outputs": [
    {
     "data": {
      "text/plain": [
       "array([[ 7.16389191, -7.32508769,  0.47948044,  8.98018595],\n",
       "       [ 1.07234322, -2.82154145,  9.98960061, -1.38708111],\n",
       "       [ 9.95381639, -9.62917906,  9.20009518, -8.60516986],\n",
       "       [-1.54798309, -3.903472  ,  2.06911766,  3.34872024],\n",
       "       [-5.16951639, -3.73897818,  6.19951264, -8.77103784]])"
      ]
     },
     "execution_count": 13,
     "metadata": {},
     "output_type": "execute_result"
    }
   ],
   "source": [
    "20 * np.random.random((5, 4)) - 10"
   ]
  },
  {
   "cell_type": "markdown",
   "metadata": {},
   "source": [
    "As we can see all the numbers generated in this 2D array fall within the range set"
   ]
  },
  {
   "cell_type": "markdown",
   "metadata": {},
   "source": [
    "### 1.4) randn\n",
    "This command generates an array of data according to the shape we specified. It also considers the median around which the samples would be. Also the variance can be an input, the greater it is, the bigger the dispersion of the sample is in relation to the mean. This is a univariative normal disribution also known as Gauss distribution which has a typical bell-like shape.\n",
    "\n",
    "variance * np.random.randn(...) + median"
   ]
  },
  {
   "cell_type": "code",
   "execution_count": 14,
   "metadata": {},
   "outputs": [
    {
     "data": {
      "text/plain": [
       "array([[6.12286545, 5.80370246],\n",
       "       [5.52434781, 5.98765381],\n",
       "       [6.2456099 , 6.29488017]])"
      ]
     },
     "execution_count": 14,
     "metadata": {},
     "output_type": "execute_result"
    }
   ],
   "source": [
    "0.5 * np.random.randn(3,2) + 6\n",
    "# All the samples outputed are relatively near the median, 6, because the variance is low"
   ]
  },
  {
   "cell_type": "code",
   "execution_count": 15,
   "metadata": {},
   "outputs": [
    {
     "data": {
      "text/plain": [
       "array([[ 3.19215636,  7.91384516],\n",
       "       [10.1484288 ,  2.20574188],\n",
       "       [ 0.43208158,  6.00369992]])"
      ]
     },
     "execution_count": 15,
     "metadata": {},
     "output_type": "execute_result"
    }
   ],
   "source": [
    "3 * np.random.randn(3,2) + 6\n",
    "# All the samples outputed are further to the median because the variance is greater"
   ]
  },
  {
   "cell_type": "code",
   "execution_count": 16,
   "metadata": {
    "scrolled": true
   },
   "outputs": [
    {
     "data": {
      "image/png": "[encoded data removed]",
      "text/plain": [
       "<Figure size 432x288 with 1 Axes>"
      ]
     },
     "metadata": {},
     "output_type": "display_data"
    }
   ],
   "source": [
    "x3 = 6 * np.random.randn(1000) + 3\n",
    "plt.hist(x3)\n",
    "plt.show()\n",
    "# The bell-shaped histogram reveals the type of distribution"
   ]
  },
  {
   "cell_type": "markdown",
   "metadata": {},
   "source": [
    "### 1.5) *choice*\n",
    "Function to create random arrays with either integers or strings. When it comes to integers the starting point is equivalent of np.arange(n), f.i: if we want to pick 5 random numbers from a list of 21 consecutive numbers, like [0,20] this command would first generate an array like the one below:"
   ]
  },
  {
   "cell_type": "code",
   "execution_count": 17,
   "metadata": {},
   "outputs": [
    {
     "data": {
      "text/plain": [
       "array([ 0,  1,  2,  3,  4,  5,  6,  7,  8,  9, 10, 11, 12, 13, 14, 15, 16,\n",
       "       17, 18, 19, 20])"
      ]
     },
     "execution_count": 17,
     "metadata": {},
     "output_type": "execute_result"
    }
   ],
   "source": [
    "np.arange(21)"
   ]
  },
  {
   "cell_type": "markdown",
   "metadata": {},
   "source": [
    "And then it would pick 5 random samples. I repeated this one hundred times to check whether or not"
   ]
  },
  {
   "cell_type": "code",
   "execution_count": 38,
   "metadata": {
    "scrolled": true
   },
   "outputs": [
    {
     "data": {
      "text/plain": [
       "[array([10, 18, 16, 18, 15]),\n",
       " array([17,  6,  2, 15, 18]),\n",
       " array([ 8,  4,  7, 18, 11]),\n",
       " array([20,  1, 19,  1,  2]),\n",
       " array([16,  8, 17,  4,  0]),\n",
       " array([ 9,  6,  7, 17, 20]),\n",
       " array([ 4, 14, 13,  8,  5]),\n",
       " array([16,  6,  9, 15, 11]),\n",
       " array([ 7,  6,  8, 12, 20]),\n",
       " array([ 9,  6, 16,  2,  0]),\n",
       " array([11, 13,  6, 14, 16]),\n",
       " array([17, 18,  5, 11, 18]),\n",
       " array([ 6, 10, 13, 14, 10]),\n",
       " array([20, 10,  2,  8, 10]),\n",
       " array([13, 19,  9,  6,  0]),\n",
       " array([15, 15,  1,  5,  4]),\n",
       " array([ 2,  2, 18,  7, 20]),\n",
       " array([10, 17, 16, 11, 13]),\n",
       " array([ 3, 17, 13, 16, 10]),\n",
       " array([11, 14,  5,  9, 11]),\n",
       " array([18,  8, 16,  6, 10]),\n",
       " array([10, 11, 10,  2,  4]),\n",
       " array([ 8, 11, 20, 15, 10]),\n",
       " array([20, 10, 16,  2,  0]),\n",
       " array([17, 19,  6, 10, 17]),\n",
       " array([14,  1, 11,  3, 10]),\n",
       " array([16,  4, 14, 18,  3]),\n",
       " array([ 8, 20, 10, 20,  6]),\n",
       " array([ 0, 13, 11,  0, 19]),\n",
       " array([ 7, 15,  5, 12,  4]),\n",
       " array([ 1, 12, 20, 13,  5]),\n",
       " array([ 3, 19,  8, 20, 13]),\n",
       " array([ 7, 20, 17,  3, 10]),\n",
       " array([ 0,  2, 20, 19, 15]),\n",
       " array([18, 19, 11,  7,  6]),\n",
       " array([13, 12,  5,  8,  4]),\n",
       " array([ 2,  9, 17, 17, 17]),\n",
       " array([17,  7,  5, 10, 14]),\n",
       " array([10, 17, 16, 17,  7]),\n",
       " array([10,  6, 12, 12, 16]),\n",
       " array([ 1,  2, 18, 15,  9]),\n",
       " array([ 7,  6,  8, 13, 10]),\n",
       " array([10, 12, 15,  7, 10]),\n",
       " array([ 7, 13, 10,  0, 17]),\n",
       " array([ 0, 20, 13,  7, 16]),\n",
       " array([ 9, 20, 12,  9, 12]),\n",
       " array([ 9, 14,  1,  0, 16]),\n",
       " array([17, 12,  4,  7, 13]),\n",
       " array([18, 14,  9, 13,  8]),\n",
       " array([17,  9, 18, 18, 16]),\n",
       " array([ 1,  9,  1,  1, 20]),\n",
       " array([2, 2, 0, 1, 0]),\n",
       " array([ 8,  2, 16, 19, 19]),\n",
       " array([16, 11,  7, 17, 18]),\n",
       " array([ 7,  6, 11,  8, 13]),\n",
       " array([12, 11,  8, 19,  1]),\n",
       " array([19, 11, 17, 13,  0]),\n",
       " array([16,  4, 12, 16,  3]),\n",
       " array([13, 14, 10, 12,  4]),\n",
       " array([13,  3, 16, 13, 10]),\n",
       " array([16, 20, 20, 17,  4]),\n",
       " array([17,  2, 11, 11, 18]),\n",
       " array([14,  2, 13, 20, 17]),\n",
       " array([10, 17,  1,  5, 11]),\n",
       " array([17,  2, 10, 19, 15]),\n",
       " array([ 9,  5,  1,  0, 18]),\n",
       " array([17,  0, 10,  9,  6]),\n",
       " array([13,  8, 19,  2, 13]),\n",
       " array([16, 12, 12,  8,  4]),\n",
       " array([10,  5, 15, 10,  7]),\n",
       " array([12, 16, 13,  2, 18]),\n",
       " array([ 9,  2,  5,  0, 19]),\n",
       " array([ 5,  7, 15, 18, 11]),\n",
       " array([13,  4,  7, 17,  5]),\n",
       " array([13,  0, 15,  0, 19]),\n",
       " array([ 8,  6,  3,  8, 14]),\n",
       " array([ 2, 18,  9,  5, 20]),\n",
       " array([11, 13,  4, 10, 18]),\n",
       " array([ 9, 11,  4, 19, 15]),\n",
       " array([15,  4,  2,  7,  6]),\n",
       " array([ 7, 16, 17,  2, 12]),\n",
       " array([ 8, 11, 18, 17, 19]),\n",
       " array([19, 19, 14, 20, 15]),\n",
       " array([ 4,  5,  4,  3, 15]),\n",
       " array([ 3, 13,  1,  2,  1]),\n",
       " array([ 4,  1, 17, 12, 14]),\n",
       " array([11,  4, 17,  4,  2]),\n",
       " array([17,  2,  1, 17, 18]),\n",
       " array([18,  6,  1, 17, 18]),\n",
       " array([ 0,  8,  8, 15,  2]),\n",
       " array([ 2, 19, 16,  2, 14]),\n",
       " array([12, 13,  5, 17, 11]),\n",
       " array([13,  6, 12, 12,  0]),\n",
       " array([14, 14, 10, 20,  5]),\n",
       " array([12, 20, 14,  8,  1]),\n",
       " array([20, 13,  1, 10,  2]),\n",
       " array([16, 12, 20, 20,  8]),\n",
       " array([ 1, 18,  3, 13,  8]),\n",
       " array([ 1, 17, 16, 10,  9]),\n",
       " array([19, 13, 18, 14,  1])]"
      ]
     },
     "execution_count": 38,
     "metadata": {},
     "output_type": "execute_result"
    }
   ],
   "source": [
    "test1 = [np.random.choice(21, 5) for i in range(100)]\n",
    "test1"
   ]
  },
  {
   "cell_type": "code",
   "execution_count": 44,
   "metadata": {},
   "outputs": [
    {
     "data": {
      "text/plain": [
       "<function matplotlib.pyplot.show(*args, **kw)>"
      ]
     },
     "execution_count": 44,
     "metadata": {},
     "output_type": "execute_result"
    },
    {
     "data": {
      "image/png": "[encoded data removed]",
      "text/plain": [
       "<Figure size 432x288 with 1 Axes>"
      ]
     },
     "metadata": {},
     "output_type": "display_data"
    }
   ],
   "source": [
    "plt.hist(test1, bins=21)\n",
    "plt.show\n",
    "# The y axis shows the number of ocurrences per sample and some bars are taller than others, so some numbers were \n",
    "# picked more than once. "
   ]
  },
  {
   "cell_type": "code",
   "execution_count": 45,
   "metadata": {
    "scrolled": true
   },
   "outputs": [
    {
     "data": {
      "text/plain": [
       "[array([ 6,  0, 11,  9, 13]),\n",
       " array([17,  9, 19, 20, 13]),\n",
       " array([ 6,  5, 10,  3,  8]),\n",
       " array([20,  2, 15, 14, 13]),\n",
       " array([16, 12,  2, 10,  6]),\n",
       " array([19, 15, 17, 16, 12]),\n",
       " array([ 4, 19, 17, 15,  2]),\n",
       " array([ 1, 19, 13,  7,  5]),\n",
       " array([19,  5, 18, 16, 10]),\n",
       " array([ 2,  9, 20,  8, 13]),\n",
       " array([20,  1, 18,  4,  6]),\n",
       " array([ 9, 17, 11,  8,  5]),\n",
       " array([ 5, 16,  4, 11,  0]),\n",
       " array([ 7, 11, 14,  9, 16]),\n",
       " array([ 9,  4, 13,  3, 17]),\n",
       " array([10,  3,  7,  0,  1]),\n",
       " array([ 9, 19, 12, 13, 11]),\n",
       " array([12,  7,  0, 15,  8]),\n",
       " array([15, 13,  3,  4, 11]),\n",
       " array([ 2,  8,  1, 12, 17]),\n",
       " array([10, 12, 20, 18,  3]),\n",
       " array([17, 18, 14,  0, 12]),\n",
       " array([ 0, 16,  8,  3,  9]),\n",
       " array([ 1, 20, 11, 12,  2]),\n",
       " array([12,  6, 13, 17,  0]),\n",
       " array([10, 19,  8,  7,  6]),\n",
       " array([14, 12, 16,  1, 10]),\n",
       " array([20,  1, 16,  0, 12]),\n",
       " array([20,  8,  4, 19, 16]),\n",
       " array([11, 20, 16,  2, 14]),\n",
       " array([14, 10,  3,  9, 16]),\n",
       " array([20, 10,  8, 13, 17]),\n",
       " array([18, 20, 10, 13,  0]),\n",
       " array([ 4, 10,  5, 19, 20]),\n",
       " array([17, 13, 12, 10, 11]),\n",
       " array([11, 20, 13,  3,  8]),\n",
       " array([ 9, 13,  1,  3,  5]),\n",
       " array([15, 13,  1, 16,  5]),\n",
       " array([ 2,  4, 19,  6,  9]),\n",
       " array([ 0, 19, 13,  4,  9]),\n",
       " array([10, 11,  6, 19,  1]),\n",
       " array([13, 15, 14,  9,  7]),\n",
       " array([ 8, 14,  3,  1,  2]),\n",
       " array([11,  4,  7, 15, 10]),\n",
       " array([17,  3, 14,  4, 13]),\n",
       " array([11, 13, 20,  2,  7]),\n",
       " array([ 1,  7,  2,  8, 14]),\n",
       " array([14, 18,  5,  9, 16]),\n",
       " array([14, 16, 10, 19,  5]),\n",
       " array([ 2,  4, 16, 10, 13]),\n",
       " array([16, 13, 18,  5, 11]),\n",
       " array([ 5,  8, 10,  6, 20]),\n",
       " array([ 0,  2, 17,  1, 15]),\n",
       " array([ 5,  2, 12,  9,  4]),\n",
       " array([ 3,  5, 11, 14,  0]),\n",
       " array([ 5,  4, 13,  3, 11]),\n",
       " array([11, 16,  9, 18, 19]),\n",
       " array([20, 11, 10,  2, 15]),\n",
       " array([11,  6,  9, 13,  1]),\n",
       " array([15,  0,  4, 16, 11]),\n",
       " array([17,  8, 11, 20,  9]),\n",
       " array([11,  3,  4, 17,  5]),\n",
       " array([15,  9, 10,  5,  8]),\n",
       " array([ 1,  8, 20,  5,  3]),\n",
       " array([13, 15, 10,  8,  4]),\n",
       " array([ 5,  1, 18,  7, 10]),\n",
       " array([ 8, 19,  4, 18,  6]),\n",
       " array([19,  4, 15,  3, 12]),\n",
       " array([10,  3,  4,  9, 18]),\n",
       " array([16,  1, 15, 20,  3]),\n",
       " array([ 0,  6, 11,  3, 16]),\n",
       " array([10,  4, 17,  1,  0]),\n",
       " array([10, 11,  1, 17, 16]),\n",
       " array([13,  5,  0,  6,  8]),\n",
       " array([11,  1, 19, 17,  4]),\n",
       " array([2, 5, 3, 0, 4]),\n",
       " array([ 3, 18,  2, 11,  1]),\n",
       " array([ 8, 11, 14,  6, 20]),\n",
       " array([12,  4,  1, 19,  6]),\n",
       " array([ 0, 14, 12,  3,  8]),\n",
       " array([20,  7, 19, 13, 15]),\n",
       " array([12, 18,  7, 16,  4]),\n",
       " array([17, 13, 15,  1, 18]),\n",
       " array([ 1,  8,  2,  4, 15]),\n",
       " array([ 4,  1, 13,  6, 14]),\n",
       " array([ 7, 17, 20, 13,  4]),\n",
       " array([16, 19,  0, 11,  6]),\n",
       " array([14,  2,  0,  4,  7]),\n",
       " array([ 3, 18,  6, 17,  0]),\n",
       " array([10,  9,  0, 17, 11]),\n",
       " array([ 7, 14,  8, 10,  1]),\n",
       " array([19, 20,  6,  8, 14]),\n",
       " array([ 5, 20, 18,  2,  0]),\n",
       " array([15, 17,  1, 20,  0]),\n",
       " array([17,  6, 12, 18,  9]),\n",
       " array([17, 14,  1, 19,  6]),\n",
       " array([19,  5,  8,  2,  0]),\n",
       " array([10, 19,  6,  8, 15]),\n",
       " array([ 0, 11, 12, 13,  9]),\n",
       " array([18,  6,  8, 10, 15])]"
      ]
     },
     "execution_count": 45,
     "metadata": {},
     "output_type": "execute_result"
    }
   ],
   "source": [
    "# We can prevent the fact mentioned in the previous code cell by adding replace=False \n",
    "test2 = [np.random.choice(21, 5, replace=False) for i in range(100)]\n",
    "test2"
   ]
  },
  {
   "cell_type": "code",
   "execution_count": 42,
   "metadata": {},
   "outputs": [
    {
     "data": {
      "text/plain": [
       "<function matplotlib.pyplot.show(*args, **kw)>"
      ]
     },
     "execution_count": 42,
     "metadata": {},
     "output_type": "execute_result"
    },
    {
     "data": {
      "image/png": "[encoded data removed]",
      "text/plain": [
       "<Figure size 432x288 with 1 Axes>"
      ]
     },
     "metadata": {},
     "output_type": "display_data"
    }
   ],
   "source": [
    "plt.hist(test2, bins=21)\n",
    "plt.show\n",
    "# no bar goes beyond the hight of y = 1"
   ]
  },
  {
   "cell_type": "markdown",
   "metadata": {},
   "source": [
    "These are uniform samples but we can modify the likelihood of every entry in n by entering the desired probabilities:"
   ]
  },
  {
   "cell_type": "code",
   "execution_count": 56,
   "metadata": {},
   "outputs": [
    {
     "data": {
      "text/plain": [
       "array([4, 2], dtype=int64)"
      ]
     },
     "execution_count": 56,
     "metadata": {},
     "output_type": "execute_result"
    }
   ],
   "source": [
    "np.random.choice(6, 2, p=[0, 0.15, 0.25, 0.15, 0.35, 0.10])\n",
    "# there are 6 entries so we need to specify the likelyhood for each one of them, adding up 1 in total or else, error"
   ]
  },
  {
   "cell_type": "markdown",
   "metadata": {},
   "source": [
    "Example that involves the features mentioned above but with an array of strings :"
   ]
  },
  {
   "cell_type": "code",
   "execution_count": 60,
   "metadata": {},
   "outputs": [
    {
     "data": {
      "text/plain": [
       "array(['papaya', 'melon', 'pear', 'blueberrie', 'apple'], dtype='<U10')"
      ]
     },
     "execution_count": 60,
     "metadata": {},
     "output_type": "execute_result"
    }
   ],
   "source": [
    "fruits = ['orange', 'papaya', 'apple', 'melon', 'blueberrie', 'pear']\n",
    "np.random.choice(fruits, 5, replace=False, p=[0.1, 0.05, 0.1, 0.3, 0.2, 0.25])"
   ]
  },
  {
   "cell_type": "code",
   "execution_count": null,
   "metadata": {},
   "outputs": [],
   "source": []
  },
  {
   "cell_type": "code",
   "execution_count": null,
   "metadata": {},
   "outputs": [],
   "source": []
  },
  {
   "cell_type": "code",
   "execution_count": null,
   "metadata": {},
   "outputs": [],
   "source": []
  },
  {
   "cell_type": "markdown",
   "metadata": {},
   "source": [
    "### 1.1) rand\n",
    "We can generate a single float between 0 and 1, being 1 excluded [0,1), by leaving out the arguments. With all this commands, whenever we don't pass arguments we get one single value."
   ]
  },
  {
   "cell_type": "code",
   "execution_count": 24,
   "metadata": {},
   "outputs": [
    {
     "data": {
      "text/plain": [
       "0.7311435579731614"
      ]
     },
     "execution_count": 24,
     "metadata": {},
     "output_type": "execute_result"
    }
   ],
   "source": [
    "np.random.rand()"
   ]
  },
  {
   "cell_type": "code",
   "execution_count": 25,
   "metadata": {},
   "outputs": [
    {
     "data": {
      "text/plain": [
       "array([[0.01088903, 0.7432705 , 0.21642575],\n",
       "       [0.87363855, 0.05512205, 0.19289845],\n",
       "       [0.49828356, 0.79937251, 0.53301985],\n",
       "       [0.51855105, 0.12378005, 0.86033371]])"
      ]
     },
     "execution_count": 25,
     "metadata": {},
     "output_type": "execute_result"
    }
   ],
   "source": [
    "# We can also get an array with random values from a uniform distribution. The numbers within the parentheses shape the array.\n",
    "# The first one specifies the numbers of arrays within the array, the second shows the number of values within each array\n",
    "np.random.rand(4,3)\n",
    "# The result is an n-dimensional array, an array of arrays, which is a 2 dimensional array. The first argument, number 4, \n",
    "# represents the number of subarrays within the array whereas the second argument -3- shows the number of elements within \n",
    "# every subarray. "
   ]
  },
  {
   "cell_type": "code",
   "execution_count": 26,
   "metadata": {
    "scrolled": true
   },
   "outputs": [
    {
     "data": {
      "text/plain": [
       "array([[[0.44289424, 0.22557595],\n",
       "        [0.07293108, 0.11761528],\n",
       "        [0.21811265, 0.14469429]],\n",
       "\n",
       "       [[0.48465168, 0.19180085],\n",
       "        [0.51398006, 0.02657258],\n",
       "        [0.78260106, 0.26763178]],\n",
       "\n",
       "       [[0.57381339, 0.26116507],\n",
       "        [0.11169341, 0.26704149],\n",
       "        [0.24289387, 0.18221468]],\n",
       "\n",
       "       [[0.69943192, 0.68587149],\n",
       "        [0.6933864 , 0.78089105],\n",
       "        [0.79590539, 0.70497192]]])"
      ]
     },
     "execution_count": 26,
     "metadata": {},
     "output_type": "execute_result"
    }
   ],
   "source": [
    "# if we add a third parameter\n",
    "np.random.rand(4,3,2)\n",
    "# we get a 3-dimensional array where the subarrays are made up of 2 elements each"
   ]
  },
  {
   "cell_type": "markdown",
   "metadata": {},
   "source": [
    "# References:\n",
    "https://docs.scipy.org/doc/numpy-1.14.1/reference/routines.random.html\n",
    "https://chrisalbon.com/python/basics/generating_random_numbers_with_numpy/\n",
    "https://en.wikipedia.org/wiki/Discrete_uniform_distribution \n",
    "(z) [stackoverflow](https://stackoverflow.com/questions/47231852/np-random-rand-vs-np-random-random)\n",
    "[aliases](https://stackoverflow.com/questions/18829185/difference-between-various-numpy-random-functions?noredirect=1&lq=1)"
   ]
  },
  {
   "cell_type": "code",
   "execution_count": null,
   "metadata": {},
   "outputs": [],
   "source": []
  }
 ],
 "metadata": {
  "kernelspec": {
   "display_name": "Python 3",
   "language": "python",
   "name": "python3"
  },
  "language_info": {
   "codemirror_mode": {
    "name": "ipython",
    "version": 3
   },
   "file_extension": ".py",
   "mimetype": "text/x-python",
   "name": "python",
   "nbconvert_exporter": "python",
   "pygments_lexer": "ipython3",
   "version": "3.6.5"
  }
 },
 "nbformat": 4,
 "nbformat_minor": 2
}
