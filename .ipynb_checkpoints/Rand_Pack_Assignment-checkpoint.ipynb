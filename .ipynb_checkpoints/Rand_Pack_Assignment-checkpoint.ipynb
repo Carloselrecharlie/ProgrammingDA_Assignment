{
 "cells": [
  {
   "cell_type": "markdown",
   "metadata": {},
   "source": [
    "# The Numpy random package\n",
    "### Carlos Montes\n",
    "#### November 2018"
   ]
  },
  {
   "cell_type": "markdown",
   "metadata": {},
   "source": [
    "## 1) Simple random data "
   ]
  },
  {
   "cell_type": "code",
   "execution_count": 51,
   "metadata": {
    "scrolled": true
   },
   "outputs": [
    {
     "name": "stdout",
     "output_type": "stream",
     "text": [
      "np.random.rand(3,2) generates:\n",
      "\n",
      "[[0.1651486  0.99713573]\n",
      " [0.77615977 0.11661131]\n",
      " [0.95620671 0.05844452]]\n",
      "\n",
      "np.random.rand(2,3) generates:\n",
      "\n",
      "[[0.00736154 0.03758682 0.1580334 ]\n",
      " [0.14962763 0.64515087 0.14322608]]\n",
      "\n",
      "Note the difference between the arrays upon interchanging the values\n"
     ]
    }
   ],
   "source": [
    "\n",
    "# First of all we need to import the package\n",
    "import numpy as np\n",
    "\n",
    "# 1.1) rand\n",
    "# Generates an array with random values between 0 and 1 being 1 excluded [0,1)\n",
    "\n",
    "# The numbers within the parentheses shape the array. The first one specifies the numbers of arrays within the array, \n",
    "# the second shows the number of values within each array\n",
    "print(\"np.random.rand(3,2) generates:\")\n",
    "print()\n",
    "print(np.random.rand(3,2))\n",
    "print()\n",
    "print(\"np.random.rand(2,3) generates:\")\n",
    "print()\n",
    "print(np.random.rand(2,3))\n",
    "print()\n",
    "print(\"Note the difference between the arrays upon interchanging the values\")"
   ]
  },
  {
   "cell_type": "code",
   "execution_count": 55,
   "metadata": {},
   "outputs": [
    {
     "data": {
      "text/plain": [
       "array([[0.24529743, 0.51741333, 0.62482002],\n",
       "       [0.9714826 , 0.50109868, 0.82538431]])"
      ]
     },
     "execution_count": 55,
     "metadata": {},
     "output_type": "execute_result"
    }
   ],
   "source": [
    "np.random.rand(2,3)"
   ]
  },
  {
   "cell_type": "code",
   "execution_count": null,
   "metadata": {},
   "outputs": [],
   "source": []
  }
 ],
 "metadata": {
  "kernelspec": {
   "display_name": "Python 3",
   "language": "python",
   "name": "python3"
  },
  "language_info": {
   "codemirror_mode": {
    "name": "ipython",
    "version": 3
   },
   "file_extension": ".py",
   "mimetype": "text/x-python",
   "name": "python",
   "nbconvert_exporter": "python",
   "pygments_lexer": "ipython3",
   "version": "3.6.5"
  }
 },
 "nbformat": 4,
 "nbformat_minor": 2
}
