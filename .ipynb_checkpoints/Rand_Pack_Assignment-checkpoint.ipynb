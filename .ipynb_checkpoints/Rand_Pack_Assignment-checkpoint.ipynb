{
 "cells": [
  {
   "cell_type": "markdown",
   "metadata": {},
   "source": [
    "# The Numpy random package\n",
    "### Carlos Montes   -   November 2018"
   ]
  },
  {
   "cell_type": "markdown",
   "metadata": {},
   "source": [
    "With this useful package we can easily generate radom numbers according to our needs. From one single number to really complex multidimensional arrays thanks to its numerous functions. \n",
    "\n",
    "\n",
    "\n",
    "\n",
    "\n",
    "## 1) Simple random data"
   ]
  },
  {
   "cell_type": "markdown",
   "metadata": {},
   "source": [
    "* There are two functions to generate **integers**, which are numbers without decimal points. These functions are *randint* and *random_integers*.\n",
    "\n",
    "### *1.1) randint*\n",
    "We can generate a single number between 0 and a any positive we just need to enter the highest value we want +1 since the one we enter, N, is excluded [0,N) "
   ]
  },
  {
   "cell_type": "code",
   "execution_count": 87,
   "metadata": {},
   "outputs": [
    {
     "data": {
      "text/plain": [
       "9"
      ]
     },
     "execution_count": 87,
     "metadata": {},
     "output_type": "execute_result"
    }
   ],
   "source": [
    "# First of all we need to import the package. We also rename it as np to ease its use\n",
    "import numpy as np\n",
    "\n",
    "# if we want a random number between 0 and 10, N = 11\n",
    "np.random.randint(11)"
   ]
  },
  {
   "cell_type": "code",
   "execution_count": 2,
   "metadata": {},
   "outputs": [
    {
     "data": {
      "text/plain": [
       "5"
      ]
     },
     "execution_count": 2,
     "metadata": {},
     "output_type": "execute_result"
    }
   ],
   "source": [
    "# we can also specify a different minimum by adding it before the highest, in this case \n",
    "# low=-10 (range -10 to 10, both included)\n",
    "np.random.randint(-10,11)"
   ]
  },
  {
   "cell_type": "code",
   "execution_count": 20,
   "metadata": {},
   "outputs": [
    {
     "data": {
      "text/plain": [
       "array([-4, -9,  8, -3,  8,  4])"
      ]
     },
     "execution_count": 20,
     "metadata": {},
     "output_type": "execute_result"
    }
   ],
   "source": [
    "# Also, we can set the number of elements we want in the array, in this case 6 of them (size=6):\n",
    "np.random.randint(-10,11,size=6)"
   ]
  },
  {
   "cell_type": "code",
   "execution_count": 127,
   "metadata": {},
   "outputs": [
    {
     "data": {
      "image/png": "[encoded data removed]",
      "text/plain": [
       "<Figure size 432x288 with 1 Axes>"
      ]
     },
     "metadata": {},
     "output_type": "display_data"
    }
   ],
   "source": [
    "# they array returned follows a uniform random distribution where a finite number of values \n",
    "# are equally likely to be observed. I'll show that by plotting a 1000 element array, for which we\n",
    "# need to import matplotlib:\n",
    "import matplotlib.pyplot as plt \n",
    "x1 = np.random.randint(10, size = 1000)\n",
    "plt.hist(x1,bins=10) # if the number of bins is not specified, 9 & 10 are together in one bar\n",
    "plt.show()\n",
    "# Below we use a histogram to check visually that all possible outcomes have a similar likelihood\n",
    "# to be outputed. I chose a histogram for being a univariate distribution."
   ]
  },
  {
   "cell_type": "code",
   "execution_count": 86,
   "metadata": {},
   "outputs": [
    {
     "data": {
      "text/plain": [
       "array([[[2, 2, 2, 4, 0, 4],\n",
       "        [3, 4, 3, 1, 4, 3],\n",
       "        [0, 4, 4, 1, 2, 4],\n",
       "        [0, 1, 3, 3, 2, 1],\n",
       "        [1, 4, 0, 1, 4, 2]],\n",
       "\n",
       "       [[1, 0, 4, 1, 4, 3],\n",
       "        [3, 2, 4, 4, 3, 3],\n",
       "        [2, 0, 4, 1, 2, 2],\n",
       "        [4, 3, 1, 3, 3, 1],\n",
       "        [1, 3, 0, 4, 3, 0]],\n",
       "\n",
       "       [[3, 1, 4, 1, 4, 3],\n",
       "        [2, 4, 0, 3, 4, 4],\n",
       "        [0, 1, 3, 1, 3, 1],\n",
       "        [2, 2, 3, 1, 1, 4],\n",
       "        [2, 2, 1, 0, 2, 0]]])"
      ]
     },
     "execution_count": 86,
     "metadata": {},
     "output_type": "execute_result"
    }
   ],
   "source": [
    "# In addition we can shape the array in a more complex way by adding more arguments to the size\n",
    "np.random.randint(5, size=(3, 5, 6))\n",
    "# returns a 3D-array with five sub-arrays each one and six elements between 0 and 4 (5 is excluded)"
   ]
  },
  {
   "cell_type": "markdown",
   "metadata": {},
   "source": [
    "### 1.2) *random_integers*\n",
    "Very similar to randint but it also includes the high number and outputs an array of a discrete uniform distribution. Although, FUNCTION DEPRECATED!\n",
    "\n",
    "* When it comes to **floats** we have other functions:\n",
    "\n",
    "### 1.3) *rand* and *random_sample*\n",
    "It generates a uniform distribution (like *randint*) of float numbers between 0 and 1, where 0 is included and 1 excluded [0, 1). Same as before we can shape it with arguments."
   ]
  },
  {
   "cell_type": "code",
   "execution_count": 150,
   "metadata": {},
   "outputs": [
    {
     "data": {
      "image/png": "[encoded data removed]",
      "text/plain": [
       "<Figure size 432x288 with 1 Axes>"
      ]
     },
     "metadata": {},
     "output_type": "display_data"
    }
   ],
   "source": [
    "# we take 100000 random samples\n",
    "x2 = np.random.rand(10000)\n",
    "plt.hist(x2, bins=50) \n",
    "plt.show()\n",
    "# despite there are many bins the representation looks quite homogeneous"
   ]
  },
  {
   "cell_type": "markdown",
   "metadata": {},
   "source": [
    "Similarly, *random_sample* generate samples from the uniform distribution on [0, 1). The only difference is in how the arguments are handled. With *rand*, the shapes of the output array are separate arguments whereas with *random_sample* the shape argument is a single tuple (z)\n",
    "\n",
    "For example, to create an array of samples with shape (4, 6), we can write\n",
    "\n",
    "sample = np.random.rand(4, 6)\n",
    "\n",
    "or\n",
    "\n",
    "sample = np.random.random_sample((4, 6))\n",
    "\n",
    "- In the same way, the function *random_sample* is also referred to as:\n",
    "\n",
    "    - *np.random.random*\n",
    "\n",
    "    - *np.random.ranf*\n",
    "\n",
    "    - *np.random.sample*"
   ]
  },
  {
   "cell_type": "code",
   "execution_count": 154,
   "metadata": {},
   "outputs": [
    {
     "data": {
      "text/plain": [
       "<function RandomState.random_sample>"
      ]
     },
     "execution_count": 154,
     "metadata": {},
     "output_type": "execute_result"
    }
   ],
   "source": [
    "np.random.random"
   ]
  },
  {
   "cell_type": "code",
   "execution_count": 155,
   "metadata": {},
   "outputs": [
    {
     "data": {
      "text/plain": [
       "True"
      ]
     },
     "execution_count": 155,
     "metadata": {},
     "output_type": "execute_result"
    }
   ],
   "source": [
    "np.random.random_sample is np.random.random"
   ]
  },
  {
   "cell_type": "code",
   "execution_count": 156,
   "metadata": {},
   "outputs": [
    {
     "data": {
      "text/plain": [
       "<function RandomState.random_sample>"
      ]
     },
     "execution_count": 156,
     "metadata": {},
     "output_type": "execute_result"
    }
   ],
   "source": [
    "np.random.ranf"
   ]
  },
  {
   "cell_type": "code",
   "execution_count": 157,
   "metadata": {},
   "outputs": [
    {
     "data": {
      "text/plain": [
       "True"
      ]
     },
     "execution_count": 157,
     "metadata": {},
     "output_type": "execute_result"
    }
   ],
   "source": [
    "np.random.random_sample is np.random.ranf"
   ]
  },
  {
   "cell_type": "code",
   "execution_count": 158,
   "metadata": {},
   "outputs": [
    {
     "data": {
      "text/plain": [
       "<function RandomState.random_sample>"
      ]
     },
     "execution_count": 158,
     "metadata": {},
     "output_type": "execute_result"
    }
   ],
   "source": [
    "np.random.sample"
   ]
  },
  {
   "cell_type": "code",
   "execution_count": 159,
   "metadata": {},
   "outputs": [
    {
     "data": {
      "text/plain": [
       "True"
      ]
     },
     "execution_count": 159,
     "metadata": {},
     "output_type": "execute_result"
    }
   ],
   "source": [
    "np.random.random_sample is np.random.sample"
   ]
  },
  {
   "cell_type": "markdown",
   "metadata": {},
   "source": [
    "### 1.4) randn\n",
    "This command generates an array of data specifying the array we want and also consider the median around which the samples would be. Also the variance can be an input, the greater it is the bigger the dispersion of the sample in relation to the mean. This is a univariative normal disribution also known as Gauss distribution which has a typical bell-like shape.\n",
    "\n",
    "variance * np.random.randn(...) + median"
   ]
  },
  {
   "cell_type": "code",
   "execution_count": 161,
   "metadata": {},
   "outputs": [
    {
     "data": {
      "text/plain": [
       "array([[6.90790925, 5.98196787],\n",
       "       [5.64147096, 6.62780682],\n",
       "       [6.91269809, 6.50828258]])"
      ]
     },
     "execution_count": 161,
     "metadata": {},
     "output_type": "execute_result"
    }
   ],
   "source": [
    "0.5 * np.random.randn(3,2) + 6\n",
    "# All the samples outputed are relatively near the median, 6, because the variance is low"
   ]
  },
  {
   "cell_type": "code",
   "execution_count": 8,
   "metadata": {},
   "outputs": [
    {
     "data": {
      "text/plain": [
       "array([[ 1.6756049 , 10.0412316 ],\n",
       "       [ 5.47956991,  5.2088906 ],\n",
       "       [ 6.92665844,  1.08154508]])"
      ]
     },
     "execution_count": 8,
     "metadata": {},
     "output_type": "execute_result"
    }
   ],
   "source": [
    "3 * np.random.randn(3,2) + 6\n",
    "# All the samples outputed are further to the median because the variance is greater"
   ]
  },
  {
   "cell_type": "code",
   "execution_count": 164,
   "metadata": {
    "scrolled": true
   },
   "outputs": [
    {
     "data": {
      "image/png": "[encoded data removed]",
      "text/plain": [
       "<Figure size 432x288 with 1 Axes>"
      ]
     },
     "metadata": {},
     "output_type": "display_data"
    }
   ],
   "source": [
    "x3 = 6 * np.random.randn(1000) + 3\n",
    "plt.hist(x3)\n",
    "plt.show()\n",
    "# The bell-shaped histogram reveals the type of distribution"
   ]
  },
  {
   "cell_type": "code",
   "execution_count": null,
   "metadata": {},
   "outputs": [],
   "source": []
  },
  {
   "cell_type": "code",
   "execution_count": null,
   "metadata": {},
   "outputs": [],
   "source": []
  },
  {
   "cell_type": "code",
   "execution_count": null,
   "metadata": {},
   "outputs": [],
   "source": []
  },
  {
   "cell_type": "code",
   "execution_count": null,
   "metadata": {},
   "outputs": [],
   "source": []
  },
  {
   "cell_type": "code",
   "execution_count": null,
   "metadata": {},
   "outputs": [],
   "source": []
  },
  {
   "cell_type": "markdown",
   "metadata": {},
   "source": [
    "### 1.1) rand\n",
    "We can generate a single float between 0 and 1, being 1 excluded [0,1), by leaving out the arguments. With all this commands, whenever we don't pass arguments we get one single value."
   ]
  },
  {
   "cell_type": "code",
   "execution_count": 4,
   "metadata": {},
   "outputs": [
    {
     "data": {
      "text/plain": [
       "0.02013711720911726"
      ]
     },
     "execution_count": 4,
     "metadata": {},
     "output_type": "execute_result"
    }
   ],
   "source": [
    "np.random.rand()"
   ]
  },
  {
   "cell_type": "code",
   "execution_count": 5,
   "metadata": {},
   "outputs": [
    {
     "data": {
      "text/plain": [
       "array([[0.1133205 , 0.29809458, 0.88363351],\n",
       "       [0.46831662, 0.60444245, 0.7607333 ],\n",
       "       [0.77745383, 0.00341356, 0.70761658],\n",
       "       [0.52649379, 0.12979034, 0.42171676]])"
      ]
     },
     "execution_count": 5,
     "metadata": {},
     "output_type": "execute_result"
    }
   ],
   "source": [
    "# We can also get an array with random values from a uniform distribution. The numbers within the parentheses shape the array.\n",
    "# The first one specifies the numbers of arrays within the array, the second shows the number of values within each array\n",
    "np.random.rand(4,3)\n",
    "# The result is an n-dimensional array, an array of arrays, which is a 2 dimensional array. The first argument, number 4, \n",
    "# represents the number of subarrays within the array whereas the second argument -3- shows the number of elements within \n",
    "# every subarray. "
   ]
  },
  {
   "cell_type": "code",
   "execution_count": 6,
   "metadata": {
    "scrolled": true
   },
   "outputs": [
    {
     "data": {
      "text/plain": [
       "array([[[0.55689952, 0.20507855],\n",
       "        [0.97024488, 0.45471707],\n",
       "        [0.90325477, 0.3729656 ]],\n",
       "\n",
       "       [[0.91618195, 0.12758698],\n",
       "        [0.03606131, 0.46567433],\n",
       "        [0.86475817, 0.34333551]],\n",
       "\n",
       "       [[0.54269768, 0.56185215],\n",
       "        [0.41657022, 0.79599577],\n",
       "        [0.6587204 , 0.18369807]],\n",
       "\n",
       "       [[0.50883643, 0.42423293],\n",
       "        [0.75085081, 0.74594771],\n",
       "        [0.22213369, 0.88042509]]])"
      ]
     },
     "execution_count": 6,
     "metadata": {},
     "output_type": "execute_result"
    }
   ],
   "source": [
    "# if we add a third parameter\n",
    "np.random.rand(4,3,2)\n",
    "# we get a 3-dimensional array where the subarrays are made up of 2 elements each"
   ]
  },
  {
   "cell_type": "markdown",
   "metadata": {},
   "source": [
    "### 1.3) standard_normal\n",
    "Similar to randn, it also takes a tuple of integers as its argument.\n",
    "We can output its shape however it was inputed:"
   ]
  },
  {
   "cell_type": "code",
   "execution_count": 10,
   "metadata": {
    "scrolled": false
   },
   "outputs": [
    {
     "data": {
      "text/plain": [
       "(3000,)"
      ]
     },
     "execution_count": 10,
     "metadata": {},
     "output_type": "execute_result"
    }
   ],
   "source": [
    "x = np.random.standard_normal(3000)\n",
    "x.shape"
   ]
  },
  {
   "cell_type": "code",
   "execution_count": 11,
   "metadata": {
    "scrolled": false
   },
   "outputs": [
    {
     "data": {
      "text/plain": [
       "(7, 3, 5)"
      ]
     },
     "execution_count": 11,
     "metadata": {},
     "output_type": "execute_result"
    }
   ],
   "source": [
    "y = np.random.standard_normal(size=(7, 3, 5))\n",
    "y.shape"
   ]
  },
  {
   "cell_type": "code",
   "execution_count": null,
   "metadata": {},
   "outputs": [],
   "source": []
  },
  {
   "cell_type": "markdown",
   "metadata": {},
   "source": [
    "# References:\n",
    "https://docs.scipy.org/doc/numpy-1.14.1/reference/routines.random.html\n",
    "https://chrisalbon.com/python/basics/generating_random_numbers_with_numpy/\n",
    "https://en.wikipedia.org/wiki/Discrete_uniform_distribution \n",
    "(z) [stackoverflow](https://stackoverflow.com/questions/47231852/np-random-rand-vs-np-random-random)\n",
    "[aliases](https://stackoverflow.com/questions/18829185/difference-between-various-numpy-random-functions?noredirect=1&lq=1)"
   ]
  },
  {
   "cell_type": "code",
   "execution_count": null,
   "metadata": {},
   "outputs": [],
   "source": []
  }
 ],
 "metadata": {
  "kernelspec": {
   "display_name": "Python 3",
   "language": "python",
   "name": "python3"
  },
  "language_info": {
   "codemirror_mode": {
    "name": "ipython",
    "version": 3
   },
   "file_extension": ".py",
   "mimetype": "text/x-python",
   "name": "python",
   "nbconvert_exporter": "python",
   "pygments_lexer": "ipython3",
   "version": "3.6.5"
  }
 },
 "nbformat": 4,
 "nbformat_minor": 2
}
