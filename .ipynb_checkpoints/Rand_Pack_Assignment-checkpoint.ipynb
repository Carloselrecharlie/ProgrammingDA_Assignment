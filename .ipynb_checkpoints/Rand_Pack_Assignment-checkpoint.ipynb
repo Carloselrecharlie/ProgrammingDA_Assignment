{
 "cells": [
  {
   "cell_type": "markdown",
   "metadata": {},
   "source": [
    "# The Numpy random package\n",
    "### Carlos Montes   -   November 2018"
   ]
  },
  {
   "cell_type": "markdown",
   "metadata": {},
   "source": [
    "With this useful package we can easily generate radom numbers according to our needs. From one single number to really complex multidimensional arrays thanks to its numerous functions. There are so many different distributions, which represent the variety of tendencies followed by data. Since there is a wide variety of scenarios, data can be grouped according to different patterns which have certain particularities that make them different. \n",
    "\n",
    "We can use these functions to:\n",
    "- put to the test hypothesis that are based on real-life situations\n",
    "- compare and identify patterns\n",
    "- foresee potential facts\n",
    "\n",
    "Other than generating values from different sizes, that may fit different distributions, we can also order or shuffle them. We can also set a function to generate random series of numbers and then have the same random array over and over again so we can test different hypothesis on the same data series.\n",
    "\n",
    "Then, when it comes to satictics we can consider this package as a powerful tool to support the performance of many analysts.\n",
    "\n",
    "\n",
    "## 1) Simple random data"
   ]
  },
  {
   "cell_type": "markdown",
   "metadata": {},
   "source": [
    "* There are three functions to generate **integers**, which are numbers without decimal points. These functions are *randint*, *random_integers* and *choice* :\n",
    "\n",
    "### *1.1) randint*\n",
    "We can generate a single number between 0 and a any positive we just need to enter the highest value we want +1 since the one we enter, N, is excluded [0,N) "
   ]
  },
  {
   "cell_type": "code",
   "execution_count": 1,
   "metadata": {},
   "outputs": [
    {
     "data": {
      "text/plain": [
       "8"
      ]
     },
     "execution_count": 1,
     "metadata": {},
     "output_type": "execute_result"
    }
   ],
   "source": [
    "# First of all we need to import the package. We also rename it as np to ease its use\n",
    "import numpy as np\n",
    "\n",
    "# if we want a random number between 0 and 10, N = 11\n",
    "np.random.randint(11)"
   ]
  },
  {
   "cell_type": "code",
   "execution_count": 2,
   "metadata": {},
   "outputs": [
    {
     "data": {
      "text/plain": [
       "-4"
      ]
     },
     "execution_count": 2,
     "metadata": {},
     "output_type": "execute_result"
    }
   ],
   "source": [
    "# we can also specify a different minimum by adding it before the highest, in this case \n",
    "# low=-10 (range -10 to 10, both included)\n",
    "np.random.randint(-10,11)"
   ]
  },
  {
   "cell_type": "code",
   "execution_count": 3,
   "metadata": {},
   "outputs": [
    {
     "data": {
      "text/plain": [
       "array([-9,  8, -2,  2, -6, -7])"
      ]
     },
     "execution_count": 3,
     "metadata": {},
     "output_type": "execute_result"
    }
   ],
   "source": [
    "# Also, we can set the number of elements we want in the array, in this case 6 of them (size=6):\n",
    "np.random.randint(-10,11,size=6)"
   ]
  },
  {
   "cell_type": "code",
   "execution_count": 4,
   "metadata": {},
   "outputs": [
    {
     "data": {
      "text/plain": [
       "<Figure size 640x480 with 1 Axes>"
      ]
     },
     "metadata": {},
     "output_type": "display_data"
    }
   ],
   "source": [
    "# they array returned follows a uniform random distribution where a finite number of values \n",
    "# are equally likely to be observed. I'll show that by plotting a 1000 element array, for which we\n",
    "# need to import matplotlib:\n",
    "import matplotlib.pyplot as plt\n",
    "x1 = np.random.randint(10, size = 1000)\n",
    "plt.hist(x1,bins=10) # if the number of bins is not specified, 9 & 10 are together in one bar\n",
    "plt.show()\n",
    "# Below we use a histogram to check visually that all possible outcomes have a similar likelihood\n",
    "# to be outputed. I chose a histogram for being a univariate distribution."
   ]
  },
  {
   "cell_type": "code",
   "execution_count": 5,
   "metadata": {},
   "outputs": [
    {
     "data": {
      "text/plain": [
       "array([[[0, 2, 1, 0, 0, 3],\n",
       "        [1, 3, 3, 0, 3, 4],\n",
       "        [4, 2, 3, 0, 2, 2],\n",
       "        [1, 3, 2, 4, 4, 3],\n",
       "        [1, 2, 1, 4, 0, 3]],\n",
       "\n",
       "       [[4, 2, 4, 4, 3, 3],\n",
       "        [4, 1, 3, 1, 3, 3],\n",
       "        [3, 4, 0, 0, 2, 1],\n",
       "        [0, 1, 0, 1, 1, 2],\n",
       "        [1, 0, 0, 1, 4, 3]],\n",
       "\n",
       "       [[4, 1, 1, 1, 2, 3],\n",
       "        [0, 2, 1, 2, 1, 2],\n",
       "        [4, 1, 3, 1, 0, 2],\n",
       "        [0, 2, 4, 2, 0, 3],\n",
       "        [0, 1, 3, 0, 0, 0]]])"
      ]
     },
     "execution_count": 5,
     "metadata": {},
     "output_type": "execute_result"
    }
   ],
   "source": [
    "# In addition we can shape the array in a more complex way by adding more arguments to the size\n",
    "np.random.randint(5, size=(3, 5, 6))\n",
    "# returns a 3D-array with five sub-arrays each one and six elements between 0 and 4 (5 is excluded)"
   ]
  },
  {
   "cell_type": "markdown",
   "metadata": {},
   "source": [
    "* **Note**: we can operate with all these functions as if they were the numbers they output. F.i: if we multiply the function by a float, we get an array of floats despite the function itself generates integers"
   ]
  },
  {
   "cell_type": "code",
   "execution_count": 6,
   "metadata": {},
   "outputs": [
    {
     "data": {
      "text/plain": [
       "array([ 0.  , -0.35, -2.8 ,  1.05, -3.5 ,  1.4 ])"
      ]
     },
     "execution_count": 6,
     "metadata": {},
     "output_type": "execute_result"
    }
   ],
   "source": [
    "0.35 * np.random.randint(-10,11,size=6)"
   ]
  },
  {
   "cell_type": "markdown",
   "metadata": {},
   "source": [
    "### 1.2) *random_integers*\n",
    "Very similar to randint but it also includes the high number and outputs an array of a discrete uniform distribution. Although, FUNCTION DEPRECATED!"
   ]
  },
  {
   "cell_type": "markdown",
   "metadata": {},
   "source": [
    "### 1.3) *choice*\n",
    "Function to create random arrays with either integers or strings. When it comes to integers the starting point is equivalent of np.arange(n), f.i: if we want to pick 5 random numbers from a list of 21 consecutive numbers, like [0,20] this command would first generate an array like the one below:"
   ]
  },
  {
   "cell_type": "code",
   "execution_count": 7,
   "metadata": {},
   "outputs": [
    {
     "data": {
      "text/plain": [
       "array([ 0,  1,  2,  3,  4,  5,  6,  7,  8,  9, 10, 11, 12, 13, 14, 15, 16,\n",
       "       17, 18, 19, 20])"
      ]
     },
     "execution_count": 7,
     "metadata": {},
     "output_type": "execute_result"
    }
   ],
   "source": [
    "np.arange(21)"
   ]
  },
  {
   "cell_type": "markdown",
   "metadata": {},
   "source": [
    "And then it would pick 5 random samples. I repeated this one hundred times to check whether or not"
   ]
  },
  {
   "cell_type": "code",
   "execution_count": 8,
   "metadata": {
    "scrolled": true
   },
   "outputs": [
    {
     "data": {
      "text/plain": [
       "[array([ 3,  8, 14, 14,  2]),\n",
       " array([ 6,  2, 10, 15, 11]),\n",
       " array([ 6, 19,  6, 12,  0]),\n",
       " array([ 1, 11,  1, 16,  8]),\n",
       " array([ 5,  9, 14,  0, 17]),\n",
       " array([10, 16, 12, 16, 16]),\n",
       " array([ 8,  3,  8,  7, 10]),\n",
       " array([13,  3, 14,  9,  1]),\n",
       " array([10, 13,  8, 13,  9]),\n",
       " array([20, 12,  6,  6,  6]),\n",
       " array([15, 15, 11, 12, 11]),\n",
       " array([ 4,  2, 14,  2,  9]),\n",
       " array([13, 16,  4,  4,  7]),\n",
       " array([18, 19,  6, 11, 16]),\n",
       " array([13, 16,  3, 15,  2]),\n",
       " array([ 0,  8, 20,  3, 10]),\n",
       " array([10, 20, 14, 14, 16]),\n",
       " array([ 0,  8, 15,  8, 17]),\n",
       " array([18,  9, 15, 13,  0]),\n",
       " array([16, 11,  0, 16, 11]),\n",
       " array([18,  3,  5, 12,  8]),\n",
       " array([ 5, 15,  5, 11,  1]),\n",
       " array([ 5, 18,  8, 14, 11]),\n",
       " array([ 4, 15,  8, 10, 20]),\n",
       " array([ 4, 18,  7,  5, 18]),\n",
       " array([ 0, 19, 15, 13, 16]),\n",
       " array([16,  8, 13,  7,  1]),\n",
       " array([10, 11, 11,  7,  4]),\n",
       " array([ 0, 13,  5, 17, 20]),\n",
       " array([17, 17, 20, 17, 15]),\n",
       " array([ 6,  2,  8, 16,  5]),\n",
       " array([ 2, 19, 20,  0, 19]),\n",
       " array([16,  6, 14,  3, 13]),\n",
       " array([ 4, 14, 15, 18,  0]),\n",
       " array([ 7, 18,  1, 17,  4]),\n",
       " array([13,  8, 11,  1, 13]),\n",
       " array([19, 14, 16,  5,  7]),\n",
       " array([20,  7, 11, 14,  0]),\n",
       " array([ 4,  2,  6,  7, 19]),\n",
       " array([ 1,  6, 10, 10, 18]),\n",
       " array([ 6, 14,  2,  9, 15]),\n",
       " array([ 0, 15,  9,  6,  4]),\n",
       " array([18, 11, 10, 10, 10]),\n",
       " array([10,  4,  0, 19, 14]),\n",
       " array([15,  7,  7, 15, 15]),\n",
       " array([4, 9, 1, 8, 1]),\n",
       " array([ 5, 10, 20, 18, 15]),\n",
       " array([ 5, 17, 16, 10, 11]),\n",
       " array([18, 20,  7, 14,  6]),\n",
       " array([ 5,  6,  3,  4, 10]),\n",
       " array([12, 17,  5, 19,  0]),\n",
       " array([15, 12, 14,  7,  2]),\n",
       " array([ 4, 17,  4, 14,  8]),\n",
       " array([17, 18,  1,  7, 16]),\n",
       " array([12, 17, 20, 20,  7]),\n",
       " array([10,  8,  1,  9, 11]),\n",
       " array([15,  2, 14, 10,  4]),\n",
       " array([14,  5,  8, 10, 18]),\n",
       " array([20,  9,  6, 11, 18]),\n",
       " array([15, 10,  6,  8, 18]),\n",
       " array([17,  8, 15, 20, 13]),\n",
       " array([13, 12,  0,  0, 20]),\n",
       " array([ 8,  0, 14, 13, 15]),\n",
       " array([16,  2,  1, 18, 15]),\n",
       " array([ 5,  4, 20,  0,  4]),\n",
       " array([16,  5, 10, 14, 18]),\n",
       " array([15, 13, 19,  6,  9]),\n",
       " array([18, 15,  7,  3,  5]),\n",
       " array([13, 12,  4, 20,  5]),\n",
       " array([12, 19, 17, 17,  6]),\n",
       " array([ 3, 16,  6,  0,  2]),\n",
       " array([20, 11,  2, 19,  6]),\n",
       " array([ 9, 17,  8, 18,  2]),\n",
       " array([11,  5,  6, 16, 18]),\n",
       " array([20, 11,  6,  5, 12]),\n",
       " array([12, 14,  8, 19,  4]),\n",
       " array([15,  2, 12, 17,  1]),\n",
       " array([ 1, 16, 20, 15,  3]),\n",
       " array([13, 16,  2,  5, 11]),\n",
       " array([ 5, 12,  8, 18,  6]),\n",
       " array([17,  5, 12, 10, 14]),\n",
       " array([ 4,  8, 15, 15,  9]),\n",
       " array([12,  2, 20,  3, 17]),\n",
       " array([12, 10,  4, 11, 16]),\n",
       " array([15, 11, 16,  6, 11]),\n",
       " array([20,  7,  7, 18,  0]),\n",
       " array([10,  2,  5,  0, 20]),\n",
       " array([ 2, 15,  6, 10,  3]),\n",
       " array([ 7,  8, 13,  1, 19]),\n",
       " array([ 7,  2,  3,  3, 18]),\n",
       " array([14,  4,  2, 13, 14]),\n",
       " array([ 7,  0,  0, 19,  4]),\n",
       " array([13, 10,  2,  0,  1]),\n",
       " array([ 0,  5,  4,  0, 11]),\n",
       " array([19, 15, 19,  1, 17]),\n",
       " array([ 1, 16, 11, 20, 10]),\n",
       " array([ 3,  0,  6, 12, 15]),\n",
       " array([ 0, 18,  1,  8, 11]),\n",
       " array([ 2,  8, 10, 17,  5]),\n",
       " array([6, 6, 0, 8, 3])]"
      ]
     },
     "execution_count": 8,
     "metadata": {},
     "output_type": "execute_result"
    }
   ],
   "source": [
    "test1 = [np.random.choice(21, 5) for i in range(100)]\n",
    "test1"
   ]
  },
  {
   "cell_type": "code",
   "execution_count": 9,
   "metadata": {},
   "outputs": [
    {
     "data": {
      "image/png": "[encoded data removed]",
      "text/plain": [
       "<Figure size 432x288 with 1 Axes>"
      ]
     },
     "metadata": {},
     "output_type": "display_data"
    }
   ],
   "source": [
    "plt.hist(test1, bins=21)\n",
    "plt.show()\n",
    "# The y axis shows the number of ocurrences per sample and some bars are taller than others, so some numbers were \n",
    "# picked more than once. "
   ]
  },
  {
   "cell_type": "code",
   "execution_count": 10,
   "metadata": {
    "scrolled": true
   },
   "outputs": [
    {
     "data": {
      "text/plain": [
       "[array([14, 17, 16,  9, 12]),\n",
       " array([19,  0, 13,  7,  5]),\n",
       " array([ 0,  1, 11, 19, 10]),\n",
       " array([16,  7,  4, 12,  9]),\n",
       " array([19, 15,  6, 11,  5]),\n",
       " array([19, 14,  3, 16, 12]),\n",
       " array([13, 11, 18,  2, 19]),\n",
       " array([10,  1, 20, 13, 18]),\n",
       " array([20,  0,  5,  3, 19]),\n",
       " array([ 6, 15, 11, 17,  8]),\n",
       " array([ 9, 15,  4,  5, 20]),\n",
       " array([20, 12,  9,  1, 14]),\n",
       " array([19,  0, 15,  7, 18]),\n",
       " array([13, 14, 20, 11,  5]),\n",
       " array([ 3, 12, 20,  5,  7]),\n",
       " array([ 9, 20,  8, 16,  4]),\n",
       " array([18,  8,  7, 14, 17]),\n",
       " array([12,  5,  9,  1, 15]),\n",
       " array([ 4, 13,  0,  9, 17]),\n",
       " array([16, 10, 12,  0, 13]),\n",
       " array([ 0, 13, 18, 15,  1]),\n",
       " array([ 1,  4, 18, 19, 12]),\n",
       " array([ 2,  1, 13,  6, 16]),\n",
       " array([ 2, 10,  4, 14,  3]),\n",
       " array([20, 13,  9,  4,  5]),\n",
       " array([18,  1,  2, 14, 10]),\n",
       " array([ 0,  3,  1, 12, 16]),\n",
       " array([20, 15,  9,  5,  2]),\n",
       " array([ 7,  4, 16,  2, 14]),\n",
       " array([17, 12,  1, 18,  2]),\n",
       " array([ 9, 18, 10, 14,  1]),\n",
       " array([13, 12, 19,  4,  3]),\n",
       " array([12, 17,  3, 16,  9]),\n",
       " array([8, 9, 2, 4, 1]),\n",
       " array([14,  5,  8,  1, 13]),\n",
       " array([12, 17,  3,  1, 11]),\n",
       " array([17,  5,  3,  7, 20]),\n",
       " array([15, 13,  3, 10,  6]),\n",
       " array([ 8, 10, 13,  4,  9]),\n",
       " array([14, 16, 17,  2,  9]),\n",
       " array([10, 20, 15,  9,  7]),\n",
       " array([20,  8,  6, 10, 15]),\n",
       " array([ 2,  5,  4, 15,  9]),\n",
       " array([ 3, 10, 11,  4,  9]),\n",
       " array([ 5,  4,  7,  9, 10]),\n",
       " array([ 0,  3, 17, 13,  8]),\n",
       " array([17,  3,  2,  1,  0]),\n",
       " array([19, 16, 18,  3,  6]),\n",
       " array([19,  6, 15,  9,  5]),\n",
       " array([ 9, 16,  7, 19,  4]),\n",
       " array([15,  9, 16,  3, 14]),\n",
       " array([16,  3,  1,  2,  5]),\n",
       " array([15,  4, 19,  9, 10]),\n",
       " array([ 8,  5, 17,  0,  7]),\n",
       " array([ 5,  1, 14,  0,  7]),\n",
       " array([ 2, 17,  7,  0, 16]),\n",
       " array([ 3, 11,  7, 17,  5]),\n",
       " array([17,  7,  6, 10, 14]),\n",
       " array([ 4, 14,  0, 11,  5]),\n",
       " array([5, 0, 9, 4, 8]),\n",
       " array([20, 14, 15, 11,  7]),\n",
       " array([ 9,  6,  4, 11,  0]),\n",
       " array([14,  5, 11, 19,  6]),\n",
       " array([20,  9, 19,  8,  0]),\n",
       " array([16,  8, 10,  6, 14]),\n",
       " array([ 7, 10, 12,  3, 11]),\n",
       " array([15,  8,  9, 18,  3]),\n",
       " array([20,  1, 12, 19, 11]),\n",
       " array([19, 13,  9,  2, 12]),\n",
       " array([12,  2,  1, 20, 10]),\n",
       " array([14, 11, 18, 13, 15]),\n",
       " array([12, 18,  5,  4, 15]),\n",
       " array([ 5,  2, 19,  0,  3]),\n",
       " array([12,  9,  6, 19, 18]),\n",
       " array([ 4,  1, 14, 20,  6]),\n",
       " array([ 5, 11, 17, 12, 20]),\n",
       " array([ 0, 17, 15, 12,  1]),\n",
       " array([ 8, 15, 18, 19, 12]),\n",
       " array([ 3,  6,  0, 12, 16]),\n",
       " array([11,  1, 12, 10, 13]),\n",
       " array([16,  4,  6, 12,  3]),\n",
       " array([ 2,  5,  4, 11, 10]),\n",
       " array([ 1, 18, 16,  4, 11]),\n",
       " array([ 8, 14, 16, 11,  0]),\n",
       " array([ 7, 10,  4,  2, 13]),\n",
       " array([16, 17,  1, 19, 15]),\n",
       " array([12,  7, 10,  2,  6]),\n",
       " array([ 4, 18,  2,  1, 13]),\n",
       " array([ 2, 10, 17,  0,  4]),\n",
       " array([16, 18, 17, 11,  7]),\n",
       " array([ 8, 10,  0, 17,  6]),\n",
       " array([ 8, 20,  4, 13, 12]),\n",
       " array([ 3, 18, 19,  0, 10]),\n",
       " array([10,  3,  8, 20,  6]),\n",
       " array([15,  7, 14, 18,  3]),\n",
       " array([12, 18, 14,  9,  5]),\n",
       " array([ 5,  4,  6,  3, 12]),\n",
       " array([ 9, 11,  2,  8,  6]),\n",
       " array([14,  2,  0,  4,  7]),\n",
       " array([10, 18, 12,  5, 11])]"
      ]
     },
     "execution_count": 10,
     "metadata": {},
     "output_type": "execute_result"
    }
   ],
   "source": [
    "# We can prevent the fact mentioned in the previous code cell by adding replace=False \n",
    "test2 = [np.random.choice(21, 5, replace=False) for i in range(100)]\n",
    "test2"
   ]
  },
  {
   "cell_type": "code",
   "execution_count": 11,
   "metadata": {},
   "outputs": [
    {
     "data": {
      "image/png": "[encoded data removed]",
      "text/plain": [
       "<Figure size 432x288 with 1 Axes>"
      ]
     },
     "metadata": {},
     "output_type": "display_data"
    }
   ],
   "source": [
    "plt.hist(test2, bins=21)\n",
    "plt.show()\n",
    "# no bar goes beyond the hight of y = 1"
   ]
  },
  {
   "cell_type": "markdown",
   "metadata": {},
   "source": [
    "These are uniform samples but we can modify the likelihood of every entry in n by entering the desired probabilities:"
   ]
  },
  {
   "cell_type": "code",
   "execution_count": 12,
   "metadata": {},
   "outputs": [
    {
     "data": {
      "text/plain": [
       "array([4, 4], dtype=int64)"
      ]
     },
     "execution_count": 12,
     "metadata": {},
     "output_type": "execute_result"
    }
   ],
   "source": [
    "np.random.choice(6, 2, p=[0, 0.15, 0.25, 0.15, 0.35, 0.10])\n",
    "# there are 6 entries so we need to specify the likelyhood for each one of them, adding up 1 in total or else, error"
   ]
  },
  {
   "cell_type": "markdown",
   "metadata": {},
   "source": [
    "And here an example that involves the features mentioned above but with an array of strings :"
   ]
  },
  {
   "cell_type": "code",
   "execution_count": 13,
   "metadata": {},
   "outputs": [
    {
     "data": {
      "text/plain": [
       "array(['pear', 'blueberrie', 'papaya', 'orange', 'melon'], dtype='<U10')"
      ]
     },
     "execution_count": 13,
     "metadata": {},
     "output_type": "execute_result"
    }
   ],
   "source": [
    "fruits = ['orange', 'papaya', 'apple', 'melon', 'blueberrie', 'pear']\n",
    "np.random.choice(fruits, 5, replace=False, p=[0.1, 0.05, 0.1, 0.3, 0.2, 0.25])"
   ]
  },
  {
   "cell_type": "markdown",
   "metadata": {},
   "source": [
    "* When it comes to **floats** we have other functions:\n",
    "\n",
    "### 1.4) *rand* and *random_sample*\n",
    "It generates a uniform distribution (like *randint*) of float numbers between 0 and 1, where 0 is included and 1 excluded [0, 1). Same as before we can shape it with arguments."
   ]
  },
  {
   "cell_type": "code",
   "execution_count": 14,
   "metadata": {
    "scrolled": true
   },
   "outputs": [
    {
     "data": {
      "image/png": "[encoded data removed]",
      "text/plain": [
       "<Figure size 432x288 with 1 Axes>"
      ]
     },
     "metadata": {},
     "output_type": "display_data"
    }
   ],
   "source": [
    "# we take 100000 random samples\n",
    "x2 = np.random.rand(10000)\n",
    "plt.hist(x2, bins=50) \n",
    "plt.show()\n",
    "# despite there are many bins the representation looks quite homogeneous"
   ]
  },
  {
   "cell_type": "markdown",
   "metadata": {},
   "source": [
    "Similarly, *random_sample* generate samples from the uniform distribution on [0, 1). The only difference is in how the arguments are handled. With *rand*, the shapes of the output array are separate arguments whereas with *random_sample* the shape argument is a single tuple (z)\n",
    "\n",
    "For example, to create an array of samples with shape (4, 6), we can write\n",
    "\n",
    "sample = np.random.rand(4, 6)\n",
    "\n",
    "or\n",
    "\n",
    "sample = np.random.random_sample((4, 6))\n",
    "\n",
    "\n",
    "* Note that the function *random_sample* is also referred to as:\n",
    "\n",
    "    - *np.random.random*\n",
    "\n",
    "    - *np.random.ranf*\n",
    "\n",
    "    - *np.random.sample*"
   ]
  },
  {
   "cell_type": "code",
   "execution_count": 15,
   "metadata": {},
   "outputs": [
    {
     "data": {
      "text/plain": [
       "<function RandomState.random_sample>"
      ]
     },
     "execution_count": 15,
     "metadata": {},
     "output_type": "execute_result"
    }
   ],
   "source": [
    "np.random.random"
   ]
  },
  {
   "cell_type": "code",
   "execution_count": 16,
   "metadata": {},
   "outputs": [
    {
     "data": {
      "text/plain": [
       "True"
      ]
     },
     "execution_count": 16,
     "metadata": {},
     "output_type": "execute_result"
    }
   ],
   "source": [
    "np.random.random_sample is np.random.random"
   ]
  },
  {
   "cell_type": "code",
   "execution_count": 17,
   "metadata": {},
   "outputs": [
    {
     "data": {
      "text/plain": [
       "<function RandomState.random_sample>"
      ]
     },
     "execution_count": 17,
     "metadata": {},
     "output_type": "execute_result"
    }
   ],
   "source": [
    "np.random.ranf"
   ]
  },
  {
   "cell_type": "code",
   "execution_count": 18,
   "metadata": {},
   "outputs": [
    {
     "data": {
      "text/plain": [
       "True"
      ]
     },
     "execution_count": 18,
     "metadata": {},
     "output_type": "execute_result"
    }
   ],
   "source": [
    "np.random.random_sample is np.random.ranf"
   ]
  },
  {
   "cell_type": "code",
   "execution_count": 19,
   "metadata": {},
   "outputs": [
    {
     "data": {
      "text/plain": [
       "<function RandomState.random_sample>"
      ]
     },
     "execution_count": 19,
     "metadata": {},
     "output_type": "execute_result"
    }
   ],
   "source": [
    "np.random.sample"
   ]
  },
  {
   "cell_type": "code",
   "execution_count": 20,
   "metadata": {
    "scrolled": true
   },
   "outputs": [
    {
     "data": {
      "text/plain": [
       "True"
      ]
     },
     "execution_count": 20,
     "metadata": {},
     "output_type": "execute_result"
    }
   ],
   "source": [
    "np.random.random_sample is np.random.sample"
   ]
  },
  {
   "cell_type": "markdown",
   "metadata": {},
   "source": [
    "### 1.5) randn\n",
    "This command generates an array of data according to the shape we specified. It also considers the median around which the samples would be. Also the variance can be an input, the greater it is, the bigger the dispersion of the sample is in relation to the mean. This is a univariative normal disribution also known as Gauss distribution which has a typical bell-like shape.\n",
    "\n",
    "variance * np.random.randn(...) + median"
   ]
  },
  {
   "cell_type": "code",
   "execution_count": 21,
   "metadata": {},
   "outputs": [
    {
     "data": {
      "text/plain": [
       "array([[6.14915239, 5.48924788],\n",
       "       [5.95624707, 5.08938783],\n",
       "       [5.842982  , 6.56599691]])"
      ]
     },
     "execution_count": 21,
     "metadata": {},
     "output_type": "execute_result"
    }
   ],
   "source": [
    "0.5 * np.random.randn(3,2) + 6\n",
    "# All the samples outputed are relatively near the median, 6, because the variance is low"
   ]
  },
  {
   "cell_type": "code",
   "execution_count": 22,
   "metadata": {},
   "outputs": [
    {
     "data": {
      "text/plain": [
       "array([[7.51660988, 4.55007002],\n",
       "       [7.93144849, 6.77917937],\n",
       "       [9.98110445, 8.64010244]])"
      ]
     },
     "execution_count": 22,
     "metadata": {},
     "output_type": "execute_result"
    }
   ],
   "source": [
    "3 * np.random.randn(3,2) + 6\n",
    "# All the samples outputed are further to the median because the variance is greater"
   ]
  },
  {
   "cell_type": "code",
   "execution_count": 23,
   "metadata": {
    "scrolled": true
   },
   "outputs": [
    {
     "data": {
      "image/png": "[encoded data removed]",
      "text/plain": [
       "<Figure size 432x288 with 1 Axes>"
      ]
     },
     "metadata": {},
     "output_type": "display_data"
    }
   ],
   "source": [
    "x3 = 6 * np.random.randn(1000) + 3\n",
    "plt.hist(x3)\n",
    "plt.show()\n",
    "# The bell-shaped histogram reveals the type of distribution"
   ]
  },
  {
   "cell_type": "markdown",
   "metadata": {},
   "source": [
    "On the other hand we can specify the range where the samples will be taken out of. In general, the desired range is [a,b) being b > a, then we just need to multiply the output of the function by (b - a) and finally add a. For instance, to create an array of random numbers between -10 and 10 (10 excluded) we have the following values:\n",
    "\t- [-10, 10)\n",
    "    - a = -10\n",
    "    - b = 10\n",
    "    - b - a = 10 - (-10) = 20\n",
    "    \n",
    "And therefore the code is as follows:"
   ]
  },
  {
   "cell_type": "code",
   "execution_count": 24,
   "metadata": {},
   "outputs": [
    {
     "data": {
      "text/plain": [
       "array([[ 7.52948441,  0.21564075, -8.12848177, -1.90507051],\n",
       "       [-3.7429827 ,  2.7328613 , -3.53463105, -7.90914392],\n",
       "       [-2.95610663,  9.49430507,  3.42106597, -8.36162913],\n",
       "       [ 4.01959622,  6.95522155, -0.34328806, -5.01381033],\n",
       "       [-5.97423001, -8.00993676, -1.25184063,  7.4588497 ]])"
      ]
     },
     "execution_count": 24,
     "metadata": {},
     "output_type": "execute_result"
    }
   ],
   "source": [
    "20 * np.random.random((5, 4)) - 10"
   ]
  },
  {
   "cell_type": "markdown",
   "metadata": {},
   "source": [
    "As we can see all the numbers generated in this 2D array fall within the range set"
   ]
  },
  {
   "cell_type": "markdown",
   "metadata": {},
   "source": [
    "### 1.6) *bytes*\n",
    "This function returns a string of random bytes whose length is specified by the user with an integer within brackets. F.i. n = 6"
   ]
  },
  {
   "cell_type": "code",
   "execution_count": 25,
   "metadata": {},
   "outputs": [
    {
     "data": {
      "text/plain": [
       "b'\\xf4d\\xf7\\xbe\\x83\\x02'"
      ]
     },
     "execution_count": 25,
     "metadata": {},
     "output_type": "execute_result"
    }
   ],
   "source": [
    "np.random.bytes(6)"
   ]
  },
  {
   "cell_type": "markdown",
   "metadata": {},
   "source": [
    "## 2) Permutations\n",
    "### 2.1) *shuffle*\n",
    "In this case it's not about creating but just modifying, we already have an array and we can turn to numpy to change the order of the elements within the array. In case we have an array with a dimesion greater than 1 it just modifies the order of the subarrays"
   ]
  },
  {
   "cell_type": "code",
   "execution_count": 26,
   "metadata": {},
   "outputs": [
    {
     "name": "stdout",
     "output_type": "stream",
     "text": [
      "Array generated:\n",
      "[[ 0  1  2]\n",
      " [ 3  4  5]\n",
      " [ 6  7  8]\n",
      " [ 9 10 11]]\n",
      "\n",
      "Array shuffled:\n",
      "[[ 6  7  8]\n",
      " [ 9 10 11]\n",
      " [ 3  4  5]\n",
      " [ 0  1  2]]\n"
     ]
    },
    {
     "data": {
      "image/png": "[encoded data removed]",
      "text/plain": [
       "<Figure size 432x288 with 1 Axes>"
      ]
     },
     "metadata": {},
     "output_type": "display_data"
    }
   ],
   "source": [
    "# Array generation, reshape and print\n",
    "arrShu = np.arange(12).reshape((4, 3))\n",
    "print(\"Array generated:\")\n",
    "print(arrShu)\n",
    "print()\n",
    "print(\"Array shuffled:\")\n",
    "\n",
    "# Plot, shuffle and replot\n",
    "plt.plot(arrShu)\n",
    "np.random.shuffle(arrShu)\n",
    "print(arrShu)\n",
    "plt.plot(arrShu)\n",
    "plt.grid()\n",
    "plt.show()\n",
    "# We can see below that only the order of the subarrays change, neither the values of the samples nor the order of the \n",
    "# elements within every subarray"
   ]
  },
  {
   "cell_type": "markdown",
   "metadata": {},
   "source": [
    "The three straight lines with a positive slope represent the original array and will remain the same no matter now many times we execute the code. The other three lines represent the shuffled array and do change, but just the order of the values of the first axis, the vertical one"
   ]
  },
  {
   "cell_type": "markdown",
   "metadata": {},
   "source": [
    "### 2.2) *permutation*\n",
    "Similar idea but with this function we can create an array of integers and permutate it with one single command:"
   ]
  },
  {
   "cell_type": "code",
   "execution_count": 27,
   "metadata": {},
   "outputs": [
    {
     "data": {
      "text/plain": [
       "array([0, 5, 8, 9, 4, 7, 1, 3, 6, 2])"
      ]
     },
     "execution_count": 27,
     "metadata": {},
     "output_type": "execute_result"
    }
   ],
   "source": [
    "np.random.permutation(10)"
   ]
  },
  {
   "cell_type": "markdown",
   "metadata": {},
   "source": [
    "We can also enter an array as an input"
   ]
  },
  {
   "cell_type": "code",
   "execution_count": 28,
   "metadata": {},
   "outputs": [
    {
     "data": {
      "text/plain": [
       "array([ 11,  15,  -7,   5,   3, -12,  -2, -16,   0,   8])"
      ]
     },
     "execution_count": 28,
     "metadata": {},
     "output_type": "execute_result"
    }
   ],
   "source": [
    "np.random.permutation([-16, -12, -7, -2, 0, 3, 5, 8, 11, 15])"
   ]
  },
  {
   "cell_type": "markdown",
   "metadata": {},
   "source": [
    "And same as with *shuffle* function, if our input is a multi-dimensional array, it is only shuffled along its first index."
   ]
  },
  {
   "cell_type": "code",
   "execution_count": 29,
   "metadata": {},
   "outputs": [
    {
     "name": "stdout",
     "output_type": "stream",
     "text": [
      "Array generated:\n",
      "[[ 0  1  2  3]\n",
      " [ 4  5  6  7]\n",
      " [ 8  9 10 11]\n",
      " [12 13 14 15]]\n",
      "\n",
      "Array permuted:\n",
      "[[ 8  9 10 11]\n",
      " [12 13 14 15]\n",
      " [ 0  1  2  3]\n",
      " [ 4  5  6  7]]\n"
     ]
    }
   ],
   "source": [
    "# we generate a new array\n",
    "newArr = np.arange(16).reshape((4, 4))\n",
    "print(\"Array generated:\")\n",
    "print(newArr)\n",
    "print()\n",
    "print(\"Array permuted:\")\n",
    "# we permute it\n",
    "arrPer = np.random.permutation(newArr)\n",
    "print(arrPer)"
   ]
  },
  {
   "cell_type": "markdown",
   "metadata": {},
   "source": [
    "## 3) Distributions\n",
    "There is a number of different distributions and numpy provides commands to draw samples from many of them:"
   ]
  },
  {
   "cell_type": "code",
   "execution_count": 30,
   "metadata": {},
   "outputs": [
    {
     "data": {
      "text/plain": [
       "0.001"
      ]
     },
     "execution_count": 30,
     "metadata": {},
     "output_type": "execute_result"
    }
   ],
   "source": [
    "sum(np.random.binomial(10,0.5, 1000) == 0)/1000"
   ]
  },
  {
   "cell_type": "markdown",
   "metadata": {},
   "source": [
    "### 3.1) *Exponential*\n",
    "The exponential distribution is a continuous analogue of the geometric distribution. It describes many common situations, such as the size of raindrops measured over many rainstorms. \n",
    "In order to get an array that follows this distribution we need to specify the scale parameter, the first figure in the brackets, and optionally the size of the array.\n"
   ]
  },
  {
   "cell_type": "code",
   "execution_count": 31,
   "metadata": {
    "scrolled": true
   },
   "outputs": [
    {
     "name": "stdout",
     "output_type": "stream",
     "text": [
      "[5.87818473e-04 1.11232154e-03 4.09354096e-03 ... 7.65433094e+01\n",
      " 9.24016546e+01 9.76706634e+01]\n"
     ]
    },
    {
     "data": {
      "image/png": "[encoded data removed]",
      "text/plain": [
       "<Figure size 432x288 with 1 Axes>"
      ]
     },
     "metadata": {},
     "output_type": "display_data"
    }
   ],
   "source": [
    "exp = np.random.exponential(10, size= (10000))\n",
    "exp.sort() # we need to order the samples so that they produce a continuous line\n",
    "print(exp)\n",
    "plt.plot(exp)\n",
    "plt.show()"
   ]
  },
  {
   "cell_type": "markdown",
   "metadata": {},
   "source": [
    "And the typical shape of a exponential function is obvious"
   ]
  },
  {
   "cell_type": "markdown",
   "metadata": {},
   "source": [
    "### 3. 2) *Triangular*\n",
    "This particular continuous probability distribution allows user to define the shape of the plot with three parameters: the lower limit left, the mode that represents the peak at the top, and the upper limit right. In the example below we set the samples to draw to be between -3 and 17  on the horizontal axis being the top peak at the height of 12 on the horizontal axis as well"
   ]
  },
  {
   "cell_type": "code",
   "execution_count": 32,
   "metadata": {},
   "outputs": [
    {
     "data": {
      "image/png": "[encoded data removed]",
      "text/plain": [
       "<Figure size 432x288 with 1 Axes>"
      ]
     },
     "metadata": {},
     "output_type": "display_data"
    }
   ],
   "source": [
    "h = plt.hist(np.random.triangular(-10, 12, 17, 1000000), bins=300, density=True)\n",
    "plt.show()"
   ]
  },
  {
   "cell_type": "markdown",
   "metadata": {},
   "source": [
    "### 3.3) *Logseries*\n",
    "The log series distribution is frequently used to represent species richness and occurrence, first proposed by Fisher, Corbet, and Williams in 1943. We should input the shape parameter for the distribution., which must be in the range (0, 1). The size is optional."
   ]
  },
  {
   "cell_type": "code",
   "execution_count": 33,
   "metadata": {},
   "outputs": [
    {
     "name": "stdout",
     "output_type": "stream",
     "text": [
      "[  1   1   1 ... 505 542 573]\n"
     ]
    },
    {
     "data": {
      "image/png": "[encoded data removed]",
      "text/plain": [
       "<Figure size 432x288 with 1 Axes>"
      ]
     },
     "metadata": {},
     "output_type": "display_data"
    }
   ],
   "source": [
    "log = np.random.logseries(0.99, size= (10000))\n",
    "log.sort() # we need to order the samples so that they produce a continuous line\n",
    "print(log)\n",
    "plt.plot(log)\n",
    "plt.show()"
   ]
  },
  {
   "cell_type": "markdown",
   "metadata": {},
   "source": [
    "### 3.4) *normal*\n",
    "This distribution is often called the bell curve because of its characteristic shape, as you can see in the example below. It occurs often in nature, f.i. it describes the commonly occurring distribution of samples influenced by a large number of tiny, random disturbances, each with its own unique distribution.\n",
    "The first argument is the mean around which the samples will be (in the example, 0). Then the standard deviation (5 means most of the sample will be between -5 and +5), which gives us an idea of how wide or narrow the bell base is, and finally the size which can be specified in the same way as order functions already explained."
   ]
  },
  {
   "cell_type": "code",
   "execution_count": 34,
   "metadata": {},
   "outputs": [
    {
     "data": {
      "image/png": "[encoded data removed]",
      "text/plain": [
       "<Figure size 432x288 with 1 Axes>"
      ]
     },
     "metadata": {},
     "output_type": "display_data"
    }
   ],
   "source": [
    "nor = np.random.normal(0, 5, 1000)\n",
    "plt.hist(nor)\n",
    "plt.show()"
   ]
  },
  {
   "cell_type": "markdown",
   "metadata": {},
   "source": [
    "## 4) Random generator\n",
    "We can use *numpy.random.seed()* when we want repeatable results to test the same hypothesis a number of times."
   ]
  },
  {
   "cell_type": "code",
   "execution_count": 35,
   "metadata": {},
   "outputs": [
    {
     "data": {
      "text/plain": [
       "array([0.5488135 , 0.71518937, 0.60276338, 0.54488318, 0.4236548 ])"
      ]
     },
     "execution_count": 35,
     "metadata": {},
     "output_type": "execute_result"
    }
   ],
   "source": [
    "np.random.seed(0) ; np.random.rand(5)"
   ]
  },
  {
   "cell_type": "code",
   "execution_count": 36,
   "metadata": {},
   "outputs": [
    {
     "data": {
      "text/plain": [
       "array([0.5488135 , 0.71518937, 0.60276338, 0.54488318, 0.4236548 ])"
      ]
     },
     "execution_count": 36,
     "metadata": {},
     "output_type": "execute_result"
    }
   ],
   "source": [
    "np.random.seed(0) ; np.random.rand(5)"
   ]
  },
  {
   "cell_type": "markdown",
   "metadata": {},
   "source": [
    "This way we make sure the experiment will be reproduced under the same set of data and we can compare results. If the random seed is not reset, different numbers appear with every invocation:"
   ]
  },
  {
   "cell_type": "code",
   "execution_count": 37,
   "metadata": {},
   "outputs": [
    {
     "data": {
      "text/plain": [
       "array([0.64589411, 0.43758721, 0.891773  , 0.96366276, 0.38344152])"
      ]
     },
     "execution_count": 37,
     "metadata": {},
     "output_type": "execute_result"
    }
   ],
   "source": [
    "np.random.rand(5)"
   ]
  },
  {
   "cell_type": "code",
   "execution_count": 38,
   "metadata": {},
   "outputs": [
    {
     "data": {
      "text/plain": [
       "array([0.79172504, 0.52889492, 0.56804456, 0.92559664, 0.07103606])"
      ]
     },
     "execution_count": 38,
     "metadata": {},
     "output_type": "execute_result"
    }
   ],
   "source": [
    "np.random.rand(5)"
   ]
  },
  {
   "cell_type": "markdown",
   "metadata": {},
   "source": [
    "F.i. if we have code that uses random numbers that we want to debug, however, it can be very helpful to set the seed before each run so that the code does the same thing every time we run it"
   ]
  },
  {
   "cell_type": "markdown",
   "metadata": {},
   "source": [
    "# References:\n",
    "- Official manual [numpy](https://docs.scipy.org/doc/numpy-1.14.1/reference/routines.random.html)\n",
    "- Basic number generation [w3.chrisalbon.com](https://chrisalbon.com/python/basics/generating_random_numbers_with_numpy/)\n",
    "- Normal distribution [stattreck](https://stattrek.com/probability-distributions/normal.aspx)\n",
    "- Discrete unifor distribution [Wikipedia](https://en.wikipedia.org/wiki/Discrete_uniform_distribution)\n",
    "- Difference between certain functions:\n",
    "    - [stackoverflow](https://stackoverflow.com/questions/47231852/np-random-rand-vs-np-random-random)\n",
    "    - [stackoverflow](https://stackoverflow.com/questions/18829185/difference-between-various-numpy-random-functions?noredirect=1&lq=1)\n",
    "- Seed [stackoverflow](https://stackoverflow.com/questions/21494489/what-does-numpy-random-seed0-do)"
   ]
  }
 ],
 "metadata": {
  "kernelspec": {
   "display_name": "Python 3",
   "language": "python",
   "name": "python3"
  },
  "language_info": {
   "codemirror_mode": {
    "name": "ipython",
    "version": 3
   },
   "file_extension": ".py",
   "mimetype": "text/x-python",
   "name": "python",
   "nbconvert_exporter": "python",
   "pygments_lexer": "ipython3",
   "version": "3.6.5"
  }
 },
 "nbformat": 4,
 "nbformat_minor": 2
}
