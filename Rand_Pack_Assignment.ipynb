{
 "cells": [
  {
   "cell_type": "markdown",
   "metadata": {},
   "source": [
    "# The Numpy random package\n",
    "### Carlos Montes   -   November 2018"
   ]
  },
  {
   "cell_type": "markdown",
   "metadata": {},
   "source": [
    "With this useful package we can easily generate radom numbers according to our needs. From one single number to really complex multidimensional arrays thanks to its numerous functions. \n",
    "\n",
    "\n",
    "\n",
    "\n",
    "\n",
    "## 1) Simple random data"
   ]
  },
  {
   "cell_type": "markdown",
   "metadata": {},
   "source": [
    "* There are three functions to generate **integers**, which are numbers without decimal points. These functions are *randint*, *random_integers* and *choice* :\n",
    "\n",
    "### *1.1) randint*\n",
    "We can generate a single number between 0 and a any positive we just need to enter the highest value we want +1 since the one we enter, N, is excluded [0,N) "
   ]
  },
  {
   "cell_type": "code",
   "execution_count": 34,
   "metadata": {},
   "outputs": [
    {
     "data": {
      "text/plain": [
       "8"
      ]
     },
     "execution_count": 34,
     "metadata": {},
     "output_type": "execute_result"
    }
   ],
   "source": [
    "# First of all we need to import the package. We also rename it as np to ease its use\n",
    "import numpy as np\n",
    "\n",
    "# if we want a random number between 0 and 10, N = 11\n",
    "np.random.randint(11)"
   ]
  },
  {
   "cell_type": "code",
   "execution_count": 2,
   "metadata": {},
   "outputs": [
    {
     "data": {
      "text/plain": [
       "2"
      ]
     },
     "execution_count": 2,
     "metadata": {},
     "output_type": "execute_result"
    }
   ],
   "source": [
    "# we can also specify a different minimum by adding it before the highest, in this case \n",
    "# low=-10 (range -10 to 10, both included)\n",
    "np.random.randint(-10,11)"
   ]
  },
  {
   "cell_type": "code",
   "execution_count": 3,
   "metadata": {},
   "outputs": [
    {
     "data": {
      "text/plain": [
       "array([ 2,  2,  2,  1,  4, 10])"
      ]
     },
     "execution_count": 3,
     "metadata": {},
     "output_type": "execute_result"
    }
   ],
   "source": [
    "# Also, we can set the number of elements we want in the array, in this case 6 of them (size=6):\n",
    "np.random.randint(-10,11,size=6)"
   ]
  },
  {
   "cell_type": "code",
   "execution_count": 28,
   "metadata": {},
   "outputs": [
    {
     "data": {
      "image/png": "[encoded data removed]",
      "text/plain": [
       "<Figure size 432x288 with 1 Axes>"
      ]
     },
     "metadata": {},
     "output_type": "display_data"
    }
   ],
   "source": [
    "# they array returned follows a uniform random distribution where a finite number of values \n",
    "# are equally likely to be observed. I'll show that by plotting a 1000 element array, for which we\n",
    "# need to import matplotlib:\n",
    "import matplotlib.pyplot as plt\n",
    "x1 = np.random.randint(10, size = 1000)\n",
    "plt.hist(x1,bins=10) # if the number of bins is not specified, 9 & 10 are together in one bar\n",
    "plt.show()\n",
    "# Below we use a histogram to check visually that all possible outcomes have a similar likelihood\n",
    "# to be outputed. I chose a histogram for being a univariate distribution."
   ]
  },
  {
   "cell_type": "code",
   "execution_count": 5,
   "metadata": {},
   "outputs": [
    {
     "data": {
      "text/plain": [
       "array([[[2, 2, 1, 1, 3, 3],\n",
       "        [2, 4, 4, 2, 0, 1],\n",
       "        [3, 0, 0, 0, 4, 0],\n",
       "        [1, 0, 0, 1, 0, 3],\n",
       "        [4, 0, 3, 3, 0, 0]],\n",
       "\n",
       "       [[4, 3, 0, 0, 1, 0],\n",
       "        [4, 4, 1, 0, 4, 0],\n",
       "        [2, 3, 0, 0, 4, 4],\n",
       "        [2, 3, 2, 0, 0, 3],\n",
       "        [4, 4, 2, 3, 4, 4]],\n",
       "\n",
       "       [[3, 0, 0, 2, 2, 2],\n",
       "        [3, 1, 1, 4, 4, 3],\n",
       "        [4, 1, 4, 4, 2, 4],\n",
       "        [1, 3, 1, 1, 3, 1],\n",
       "        [4, 4, 3, 3, 3, 1]]])"
      ]
     },
     "execution_count": 5,
     "metadata": {},
     "output_type": "execute_result"
    }
   ],
   "source": [
    "# In addition we can shape the array in a more complex way by adding more arguments to the size\n",
    "np.random.randint(5, size=(3, 5, 6))\n",
    "# returns a 3D-array with five sub-arrays each one and six elements between 0 and 4 (5 is excluded)"
   ]
  },
  {
   "cell_type": "markdown",
   "metadata": {},
   "source": [
    "* **Note**: we can operate with all these functions as if they were the numbers they output. F.i: if we multiply the function by a float, we get an array of floats despite the function itself generates integers"
   ]
  },
  {
   "cell_type": "code",
   "execution_count": 37,
   "metadata": {},
   "outputs": [
    {
     "data": {
      "text/plain": [
       "array([ 0.35, -2.45, -0.35, -3.15,  0.35, -0.7 ])"
      ]
     },
     "execution_count": 37,
     "metadata": {},
     "output_type": "execute_result"
    }
   ],
   "source": [
    "0.35 * np.random.randint(-10,11,size=6)"
   ]
  },
  {
   "cell_type": "markdown",
   "metadata": {},
   "source": [
    "### 1.2) *random_integers*\n",
    "Very similar to randint but it also includes the high number and outputs an array of a discrete uniform distribution. Although, FUNCTION DEPRECATED!"
   ]
  },
  {
   "cell_type": "markdown",
   "metadata": {},
   "source": [
    "### 1.3) *choice*\n",
    "Function to create random arrays with either integers or strings. When it comes to integers the starting point is equivalent of np.arange(n), f.i: if we want to pick 5 random numbers from a list of 21 consecutive numbers, like [0,20] this command would first generate an array like the one below:"
   ]
  },
  {
   "cell_type": "code",
   "execution_count": 6,
   "metadata": {},
   "outputs": [
    {
     "data": {
      "text/plain": [
       "array([ 0,  1,  2,  3,  4,  5,  6,  7,  8,  9, 10, 11, 12, 13, 14, 15, 16,\n",
       "       17, 18, 19, 20])"
      ]
     },
     "execution_count": 6,
     "metadata": {},
     "output_type": "execute_result"
    }
   ],
   "source": [
    "np.arange(21)"
   ]
  },
  {
   "cell_type": "markdown",
   "metadata": {},
   "source": [
    "And then it would pick 5 random samples. I repeated this one hundred times to check whether or not"
   ]
  },
  {
   "cell_type": "code",
   "execution_count": 7,
   "metadata": {
    "scrolled": true
   },
   "outputs": [
    {
     "data": {
      "text/plain": [
       "[array([19, 14,  4,  0,  2]),\n",
       " array([ 2, 15, 14,  0,  3]),\n",
       " array([19, 15, 18,  1, 20]),\n",
       " array([20,  7, 15, 16,  1]),\n",
       " array([ 0,  0,  2,  7, 19]),\n",
       " array([ 4, 17,  9,  6, 12]),\n",
       " array([ 6, 20, 16, 19, 13]),\n",
       " array([14, 20, 13, 11, 18]),\n",
       " array([12,  4,  3, 19,  5]),\n",
       " array([20,  6, 19, 12,  9]),\n",
       " array([11, 18,  4, 11, 18]),\n",
       " array([14, 14, 11,  3,  5]),\n",
       " array([13, 20,  3, 15,  1]),\n",
       " array([ 0,  9, 17, 16,  0]),\n",
       " array([ 4, 16, 13,  5,  4]),\n",
       " array([ 8, 12, 16, 17,  8]),\n",
       " array([14,  3, 19,  8, 11]),\n",
       " array([ 8,  6, 14, 16, 19]),\n",
       " array([ 2, 18,  4, 19, 18]),\n",
       " array([15, 15,  3,  2,  2]),\n",
       " array([ 0, 20,  6,  5,  2]),\n",
       " array([18, 13, 11,  8, 12]),\n",
       " array([ 8,  7, 11, 18, 16]),\n",
       " array([ 2,  0,  3,  0, 15]),\n",
       " array([18,  7, 19,  2, 15]),\n",
       " array([ 2,  5, 17, 19,  3]),\n",
       " array([ 5,  5, 11,  6,  1]),\n",
       " array([15, 11,  2, 20,  1]),\n",
       " array([4, 2, 4, 1, 8]),\n",
       " array([ 7,  1, 19, 20, 12]),\n",
       " array([10,  4,  1, 17,  1]),\n",
       " array([16,  0, 16, 20, 19]),\n",
       " array([ 7,  2, 10, 10, 13]),\n",
       " array([16, 19,  2, 12, 19]),\n",
       " array([11,  0,  8,  4, 17]),\n",
       " array([4, 3, 6, 0, 3]),\n",
       " array([18, 12, 11,  6,  1]),\n",
       " array([ 0, 14, 19, 19, 20]),\n",
       " array([13, 11, 18, 14,  3]),\n",
       " array([ 3, 20, 10, 12,  1]),\n",
       " array([19,  6, 11, 15,  1]),\n",
       " array([14, 17, 10, 13, 13]),\n",
       " array([ 2,  8,  7,  0, 14]),\n",
       " array([ 9,  9,  2, 10, 10]),\n",
       " array([ 5,  7, 12, 16,  6]),\n",
       " array([12,  0,  9,  0, 11]),\n",
       " array([ 1, 16,  4, 11, 16]),\n",
       " array([ 5,  0,  8, 15,  5]),\n",
       " array([ 0, 13,  2, 20,  7]),\n",
       " array([10, 19,  6,  0,  2]),\n",
       " array([ 8,  2,  3, 15, 19]),\n",
       " array([ 6,  9,  1, 11, 15]),\n",
       " array([ 5, 13,  3, 12, 11]),\n",
       " array([20, 14, 13, 15, 17]),\n",
       " array([15, 14, 10,  5,  5]),\n",
       " array([17, 12, 19,  2, 19]),\n",
       " array([ 1, 14,  8,  2,  1]),\n",
       " array([ 7,  0, 12,  5,  5]),\n",
       " array([19,  8, 14, 19, 10]),\n",
       " array([10, 18,  0, 16, 14]),\n",
       " array([ 6,  2, 17, 17,  0]),\n",
       " array([11,  2, 18, 16, 15]),\n",
       " array([19, 13,  9,  6,  0]),\n",
       " array([ 4,  4,  0,  5, 14]),\n",
       " array([ 0,  6, 19, 20,  2]),\n",
       " array([15,  5,  8,  5, 11]),\n",
       " array([13,  7, 15, 10,  5]),\n",
       " array([14, 15,  9,  2, 13]),\n",
       " array([19, 13, 20, 12,  3]),\n",
       " array([ 9, 20,  1,  3, 12]),\n",
       " array([17, 11, 16,  3, 18]),\n",
       " array([ 2,  4,  4,  6, 19]),\n",
       " array([ 4,  6,  2, 17,  4]),\n",
       " array([12, 12, 16, 17,  4]),\n",
       " array([14, 15,  5, 16,  5]),\n",
       " array([16,  5,  0, 12,  3]),\n",
       " array([13,  2,  1, 17,  3]),\n",
       " array([ 4, 16,  1, 11, 10]),\n",
       " array([ 9, 17,  5, 14, 15]),\n",
       " array([12,  3,  9,  9,  6]),\n",
       " array([6, 8, 4, 6, 6]),\n",
       " array([ 3, 12,  6, 13, 16]),\n",
       " array([ 9,  5,  9,  7, 11]),\n",
       " array([ 8,  3, 14, 19, 16]),\n",
       " array([ 5,  6,  7, 18, 10]),\n",
       " array([11,  9, 12, 12,  0]),\n",
       " array([19, 18, 11,  5, 16]),\n",
       " array([14, 17, 20, 13, 11]),\n",
       " array([13, 18, 15, 12, 13]),\n",
       " array([ 0, 13,  1,  4, 16]),\n",
       " array([ 6, 10, 10,  1, 20]),\n",
       " array([6, 1, 9, 9, 9]),\n",
       " array([19,  3,  7, 17, 14]),\n",
       " array([11, 10, 16, 15, 10]),\n",
       " array([16, 18,  4,  0, 19]),\n",
       " array([ 2, 20, 13, 17, 12]),\n",
       " array([ 5, 11, 20, 10, 19]),\n",
       " array([ 9, 11, 19,  8,  8]),\n",
       " array([ 2, 17, 19,  9, 15]),\n",
       " array([ 3,  8, 19,  9, 17])]"
      ]
     },
     "execution_count": 7,
     "metadata": {},
     "output_type": "execute_result"
    }
   ],
   "source": [
    "test1 = [np.random.choice(21, 5) for i in range(100)]\n",
    "test1"
   ]
  },
  {
   "cell_type": "code",
   "execution_count": 26,
   "metadata": {},
   "outputs": [
    {
     "data": {
      "image/png": "[encoded data removed]",
      "text/plain": [
       "<Figure size 432x288 with 1 Axes>"
      ]
     },
     "metadata": {},
     "output_type": "display_data"
    }
   ],
   "source": [
    "plt.hist(test1, bins=21)\n",
    "plt.show()\n",
    "# The y axis shows the number of ocurrences per sample and some bars are taller than others, so some numbers were \n",
    "# picked more than once. "
   ]
  },
  {
   "cell_type": "code",
   "execution_count": 9,
   "metadata": {
    "scrolled": true
   },
   "outputs": [
    {
     "data": {
      "text/plain": [
       "[array([10, 14,  0, 15, 17]),\n",
       " array([18,  0, 15,  4,  6]),\n",
       " array([ 4, 18,  1,  7, 13]),\n",
       " array([ 8,  6, 15, 16, 18]),\n",
       " array([16,  2,  8, 18,  0]),\n",
       " array([ 9,  8, 12,  1, 17]),\n",
       " array([18,  5, 13,  4,  7]),\n",
       " array([ 1, 19, 15,  7,  8]),\n",
       " array([17,  0, 14, 18, 13]),\n",
       " array([19, 14, 20,  2,  5]),\n",
       " array([ 8, 17, 14,  6, 19]),\n",
       " array([11,  9, 17,  8,  4]),\n",
       " array([4, 5, 0, 8, 9]),\n",
       " array([13,  1, 11,  0,  5]),\n",
       " array([20,  1, 15, 11, 16]),\n",
       " array([ 0,  4,  1,  5, 16]),\n",
       " array([ 7, 18, 12,  0, 16]),\n",
       " array([ 6, 17, 11,  4,  7]),\n",
       " array([ 4, 13,  8,  7, 12]),\n",
       " array([ 5, 17,  8, 18,  4]),\n",
       " array([ 2,  5,  1, 13,  7]),\n",
       " array([18, 14, 16,  7, 11]),\n",
       " array([ 8, 14,  5, 18, 20]),\n",
       " array([11, 19,  9, 20,  6]),\n",
       " array([19, 12, 13,  2, 16]),\n",
       " array([10,  5,  9, 19,  7]),\n",
       " array([17,  3,  9,  4, 13]),\n",
       " array([ 3,  7,  4, 16, 13]),\n",
       " array([ 3, 18, 11,  0,  2]),\n",
       " array([19, 16,  3,  5,  9]),\n",
       " array([ 6, 13,  2,  5, 12]),\n",
       " array([10, 15, 19,  4,  5]),\n",
       " array([ 8, 19,  6,  5,  9]),\n",
       " array([ 3, 16,  8, 15,  7]),\n",
       " array([ 1,  6, 10, 19,  8]),\n",
       " array([12,  0, 19,  3, 15]),\n",
       " array([11, 13,  8, 20, 17]),\n",
       " array([20, 19,  7,  4, 11]),\n",
       " array([ 3,  8,  5, 11, 10]),\n",
       " array([ 0,  5, 11,  4, 19]),\n",
       " array([ 7,  3,  4,  6, 16]),\n",
       " array([20, 18,  6,  8,  2]),\n",
       " array([ 5,  8, 15,  4, 18]),\n",
       " array([ 1, 20,  5,  6, 10]),\n",
       " array([11, 10, 20,  2,  8]),\n",
       " array([ 8,  1,  7, 14,  3]),\n",
       " array([12,  8,  3, 11,  7]),\n",
       " array([11,  0,  9,  7, 12]),\n",
       " array([18,  4,  5,  6, 12]),\n",
       " array([12, 20,  6,  5, 15]),\n",
       " array([ 6, 18,  5, 14,  2]),\n",
       " array([ 8, 10,  6,  1, 17]),\n",
       " array([ 9, 20, 19,  7,  3]),\n",
       " array([ 8,  5, 20,  1, 15]),\n",
       " array([18,  4, 13, 15,  8]),\n",
       " array([ 8,  1,  6, 18, 10]),\n",
       " array([10,  7, 15, 16,  1]),\n",
       " array([15,  7,  6, 18, 17]),\n",
       " array([11, 17,  4,  3,  5]),\n",
       " array([ 0, 13, 16,  4, 11]),\n",
       " array([ 1,  9, 13, 11,  7]),\n",
       " array([ 6, 19,  3, 18,  4]),\n",
       " array([ 9,  4, 16,  5,  8]),\n",
       " array([ 9, 13, 18, 15, 19]),\n",
       " array([ 2, 13,  0, 11,  1]),\n",
       " array([ 7, 14, 13,  3, 12]),\n",
       " array([ 7, 19, 14, 20,  3]),\n",
       " array([6, 2, 8, 3, 0]),\n",
       " array([14, 18,  8, 16, 11]),\n",
       " array([13,  4,  6,  5, 19]),\n",
       " array([ 0, 13,  6, 12, 19]),\n",
       " array([ 4, 17, 10,  3, 16]),\n",
       " array([1, 6, 0, 5, 4]),\n",
       " array([ 0, 20,  8, 15, 12]),\n",
       " array([ 3,  2, 13, 14, 15]),\n",
       " array([ 2, 16, 19,  7, 13]),\n",
       " array([ 6,  7, 16,  2,  8]),\n",
       " array([ 8,  3, 19, 15,  0]),\n",
       " array([13, 12,  2,  4,  7]),\n",
       " array([19,  6, 10,  5,  0]),\n",
       " array([ 5, 11, 10,  6, 13]),\n",
       " array([16, 17, 19, 12, 15]),\n",
       " array([ 5, 15, 18, 11,  2]),\n",
       " array([ 6, 11, 18, 17, 15]),\n",
       " array([ 1,  7, 16, 18, 15]),\n",
       " array([ 6, 13, 20, 10,  4]),\n",
       " array([15, 12,  6, 11, 10]),\n",
       " array([12, 18, 20, 17,  2]),\n",
       " array([16,  6,  3, 18, 15]),\n",
       " array([ 2, 13, 18,  9, 19]),\n",
       " array([ 3, 15,  8, 20,  6]),\n",
       " array([ 3,  8, 20, 19, 18]),\n",
       " array([13, 16, 15,  2, 11]),\n",
       " array([ 2,  3, 14, 19, 13]),\n",
       " array([ 1, 11,  6,  0, 16]),\n",
       " array([ 0, 13, 15,  1, 17]),\n",
       " array([ 1,  9, 12,  4,  3]),\n",
       " array([ 9,  6,  8,  1, 16]),\n",
       " array([ 2, 20,  1, 13, 12]),\n",
       " array([14, 20, 17,  4, 16])]"
      ]
     },
     "execution_count": 9,
     "metadata": {},
     "output_type": "execute_result"
    }
   ],
   "source": [
    "# We can prevent the fact mentioned in the previous code cell by adding replace=False \n",
    "test2 = [np.random.choice(21, 5, replace=False) for i in range(100)]\n",
    "test2"
   ]
  },
  {
   "cell_type": "code",
   "execution_count": 10,
   "metadata": {},
   "outputs": [
    {
     "data": {
      "image/png": "[encoded data removed]",
      "text/plain": [
       "<Figure size 432x288 with 1 Axes>"
      ]
     },
     "metadata": {},
     "output_type": "display_data"
    }
   ],
   "source": [
    "plt.hist(test2, bins=21)\n",
    "plt.show()\n",
    "# no bar goes beyond the hight of y = 1"
   ]
  },
  {
   "cell_type": "markdown",
   "metadata": {},
   "source": [
    "These are uniform samples but we can modify the likelihood of every entry in n by entering the desired probabilities:"
   ]
  },
  {
   "cell_type": "code",
   "execution_count": 11,
   "metadata": {},
   "outputs": [
    {
     "data": {
      "text/plain": [
       "array([4, 4], dtype=int64)"
      ]
     },
     "execution_count": 11,
     "metadata": {},
     "output_type": "execute_result"
    }
   ],
   "source": [
    "np.random.choice(6, 2, p=[0, 0.15, 0.25, 0.15, 0.35, 0.10])\n",
    "# there are 6 entries so we need to specify the likelyhood for each one of them, adding up 1 in total or else, error"
   ]
  },
  {
   "cell_type": "markdown",
   "metadata": {},
   "source": [
    "And here an example that involves the features mentioned above but with an array of strings :"
   ]
  },
  {
   "cell_type": "code",
   "execution_count": 12,
   "metadata": {},
   "outputs": [
    {
     "data": {
      "text/plain": [
       "array(['pear', 'orange', 'melon', 'blueberrie', 'apple'], dtype='<U10')"
      ]
     },
     "execution_count": 12,
     "metadata": {},
     "output_type": "execute_result"
    }
   ],
   "source": [
    "fruits = ['orange', 'papaya', 'apple', 'melon', 'blueberrie', 'pear']\n",
    "np.random.choice(fruits, 5, replace=False, p=[0.1, 0.05, 0.1, 0.3, 0.2, 0.25])"
   ]
  },
  {
   "cell_type": "markdown",
   "metadata": {},
   "source": [
    "* When it comes to **floats** we have other functions:\n",
    "\n",
    "### 1.4) *rand* and *random_sample*\n",
    "It generates a uniform distribution (like *randint*) of float numbers between 0 and 1, where 0 is included and 1 excluded [0, 1). Same as before we can shape it with arguments."
   ]
  },
  {
   "cell_type": "code",
   "execution_count": 13,
   "metadata": {
    "scrolled": true
   },
   "outputs": [
    {
     "data": {
      "image/png": "[encoded data removed]",
      "text/plain": [
       "<Figure size 432x288 with 1 Axes>"
      ]
     },
     "metadata": {},
     "output_type": "display_data"
    }
   ],
   "source": [
    "# we take 100000 random samples\n",
    "x2 = np.random.rand(10000)\n",
    "plt.hist(x2, bins=50) \n",
    "plt.show()\n",
    "# despite there are many bins the representation looks quite homogeneous"
   ]
  },
  {
   "cell_type": "markdown",
   "metadata": {},
   "source": [
    "Similarly, *random_sample* generate samples from the uniform distribution on [0, 1). The only difference is in how the arguments are handled. With *rand*, the shapes of the output array are separate arguments whereas with *random_sample* the shape argument is a single tuple (z)\n",
    "\n",
    "For example, to create an array of samples with shape (4, 6), we can write\n",
    "\n",
    "sample = np.random.rand(4, 6)\n",
    "\n",
    "or\n",
    "\n",
    "sample = np.random.random_sample((4, 6))\n",
    "\n",
    "\n",
    "* Note that the function *random_sample* is also referred to as:\n",
    "\n",
    "    - *np.random.random*\n",
    "\n",
    "    - *np.random.ranf*\n",
    "\n",
    "    - *np.random.sample*"
   ]
  },
  {
   "cell_type": "code",
   "execution_count": 14,
   "metadata": {},
   "outputs": [
    {
     "data": {
      "text/plain": [
       "<function RandomState.random_sample>"
      ]
     },
     "execution_count": 14,
     "metadata": {},
     "output_type": "execute_result"
    }
   ],
   "source": [
    "np.random.random"
   ]
  },
  {
   "cell_type": "code",
   "execution_count": 15,
   "metadata": {},
   "outputs": [
    {
     "data": {
      "text/plain": [
       "True"
      ]
     },
     "execution_count": 15,
     "metadata": {},
     "output_type": "execute_result"
    }
   ],
   "source": [
    "np.random.random_sample is np.random.random"
   ]
  },
  {
   "cell_type": "code",
   "execution_count": 16,
   "metadata": {},
   "outputs": [
    {
     "data": {
      "text/plain": [
       "<function RandomState.random_sample>"
      ]
     },
     "execution_count": 16,
     "metadata": {},
     "output_type": "execute_result"
    }
   ],
   "source": [
    "np.random.ranf"
   ]
  },
  {
   "cell_type": "code",
   "execution_count": 17,
   "metadata": {},
   "outputs": [
    {
     "data": {
      "text/plain": [
       "True"
      ]
     },
     "execution_count": 17,
     "metadata": {},
     "output_type": "execute_result"
    }
   ],
   "source": [
    "np.random.random_sample is np.random.ranf"
   ]
  },
  {
   "cell_type": "code",
   "execution_count": 18,
   "metadata": {},
   "outputs": [
    {
     "data": {
      "text/plain": [
       "<function RandomState.random_sample>"
      ]
     },
     "execution_count": 18,
     "metadata": {},
     "output_type": "execute_result"
    }
   ],
   "source": [
    "np.random.sample"
   ]
  },
  {
   "cell_type": "code",
   "execution_count": 19,
   "metadata": {
    "scrolled": true
   },
   "outputs": [
    {
     "data": {
      "text/plain": [
       "True"
      ]
     },
     "execution_count": 19,
     "metadata": {},
     "output_type": "execute_result"
    }
   ],
   "source": [
    "np.random.random_sample is np.random.sample"
   ]
  },
  {
   "cell_type": "markdown",
   "metadata": {},
   "source": [
    "### 1.5) randn\n",
    "This command generates an array of data according to the shape we specified. It also considers the median around which the samples would be. Also the variance can be an input, the greater it is, the bigger the dispersion of the sample is in relation to the mean. This is a univariative normal disribution also known as Gauss distribution which has a typical bell-like shape.\n",
    "\n",
    "variance * np.random.randn(...) + median"
   ]
  },
  {
   "cell_type": "code",
   "execution_count": 20,
   "metadata": {},
   "outputs": [
    {
     "data": {
      "text/plain": [
       "array([[5.06582135, 6.90059703],\n",
       "       [5.88684437, 6.24259443],\n",
       "       [6.47458359, 6.0317734 ]])"
      ]
     },
     "execution_count": 20,
     "metadata": {},
     "output_type": "execute_result"
    }
   ],
   "source": [
    "0.5 * np.random.randn(3,2) + 6\n",
    "# All the samples outputed are relatively near the median, 6, because the variance is low"
   ]
  },
  {
   "cell_type": "code",
   "execution_count": 21,
   "metadata": {},
   "outputs": [
    {
     "data": {
      "text/plain": [
       "array([[9.26398118, 5.16280473],\n",
       "       [4.33012465, 3.95106638],\n",
       "       [0.04687976, 7.1766739 ]])"
      ]
     },
     "execution_count": 21,
     "metadata": {},
     "output_type": "execute_result"
    }
   ],
   "source": [
    "3 * np.random.randn(3,2) + 6\n",
    "# All the samples outputed are further to the median because the variance is greater"
   ]
  },
  {
   "cell_type": "code",
   "execution_count": 22,
   "metadata": {
    "scrolled": true
   },
   "outputs": [
    {
     "data": {
      "image/png": "[encoded data removed]",
      "text/plain": [
       "<Figure size 432x288 with 1 Axes>"
      ]
     },
     "metadata": {},
     "output_type": "display_data"
    }
   ],
   "source": [
    "x3 = 6 * np.random.randn(1000) + 3\n",
    "plt.hist(x3)\n",
    "plt.show()\n",
    "# The bell-shaped histogram reveals the type of distribution"
   ]
  },
  {
   "cell_type": "markdown",
   "metadata": {},
   "source": [
    "On the other hand we can specify the range where the samples will be taken out of. In general, the desired range is [a,b) being b > a, then we just need to multiply the output of the function by (b - a) and finally add a. For instance, to create an array of random numbers between -10 and 10 (10 excluded) we have the following values:\n",
    "\t- [-10, 10)\n",
    "    - a = -10\n",
    "    - b = 10\n",
    "    - b - a = 10 - (-10) = 20\n",
    "    \n",
    "And therefore the code is as follows:"
   ]
  },
  {
   "cell_type": "code",
   "execution_count": 23,
   "metadata": {},
   "outputs": [
    {
     "data": {
      "text/plain": [
       "array([[ 7.11362374, -2.27557022,  7.60156068, -8.00639743],\n",
       "       [-9.21614176, -7.73536928,  1.74260145,  2.0843341 ],\n",
       "       [-8.09561688,  4.2191688 ,  9.01310735,  8.98879547],\n",
       "       [-1.68486502,  3.17506782, -1.39458398,  9.88825366],\n",
       "       [-1.09951662, -8.53383371, -5.42217174,  9.83188307]])"
      ]
     },
     "execution_count": 23,
     "metadata": {},
     "output_type": "execute_result"
    }
   ],
   "source": [
    "20 * np.random.random((5, 4)) - 10"
   ]
  },
  {
   "cell_type": "markdown",
   "metadata": {},
   "source": [
    "As we can see all the numbers generated in this 2D array fall within the range set"
   ]
  },
  {
   "cell_type": "markdown",
   "metadata": {},
   "source": [
    "### 1.6) *bytes*\n",
    "This function returns a string of random bytes whose length is specified by the user with an integer within brackets. F.i. n = 6"
   ]
  },
  {
   "cell_type": "code",
   "execution_count": 24,
   "metadata": {},
   "outputs": [
    {
     "data": {
      "text/plain": [
       "b'\\xca\\xc3}=\\x809'"
      ]
     },
     "execution_count": 24,
     "metadata": {},
     "output_type": "execute_result"
    }
   ],
   "source": [
    "np.random.bytes(6)"
   ]
  },
  {
   "cell_type": "markdown",
   "metadata": {},
   "source": [
    "## 2) Permutations\n",
    "### 2.1) *shuffle*\n",
    "In this case it's not about creating but just modifying, we already have an array and we can turn to numpy to change the order of the elements within the array. In case we have an array with a dimesion greater than 1 it just modifies the order of the subarrays"
   ]
  },
  {
   "cell_type": "code",
   "execution_count": 43,
   "metadata": {},
   "outputs": [
    {
     "name": "stdout",
     "output_type": "stream",
     "text": [
      "Array generated:\n",
      "[[ 0  1  2]\n",
      " [ 3  4  5]\n",
      " [ 6  7  8]\n",
      " [ 9 10 11]]\n",
      "\n",
      "Array shuffled:\n",
      "[[ 3  4  5]\n",
      " [ 6  7  8]\n",
      " [ 0  1  2]\n",
      " [ 9 10 11]]\n"
     ]
    },
    {
     "data": {
      "image/png": "[encoded data removed]",
      "text/plain": [
       "<Figure size 432x288 with 1 Axes>"
      ]
     },
     "metadata": {},
     "output_type": "display_data"
    }
   ],
   "source": [
    "# Array generation, reshape and print\n",
    "arrShu = np.arange(12).reshape((4, 3))\n",
    "print(\"Array generated:\")\n",
    "print(arrShu)\n",
    "print()\n",
    "print(\"Array shuffled:\")\n",
    "\n",
    "# Plot, shuffle and replot\n",
    "plt.plot(arrShu)\n",
    "np.random.shuffle(arrShu)\n",
    "print(arrShu)\n",
    "plt.plot(arrShu)\n",
    "plt.grid()\n",
    "plt.show()\n",
    "# We can see below that only the order of the subarrays change, neither the values of the samples nor the order of the \n",
    "# elements within every subarray"
   ]
  },
  {
   "cell_type": "markdown",
   "metadata": {},
   "source": [
    "The three straight lines with a positive slope represent the original array and will remain the same no matter now many times we execute the code. The other three lines represent the shuffled array and do change, but just the order of the values of the first axis, the vertical one"
   ]
  },
  {
   "cell_type": "markdown",
   "metadata": {},
   "source": [
    "### 2.2) *permutation*\n",
    "Similar idea but with this function we can create an array of integers and permutate it with one single command:"
   ]
  },
  {
   "cell_type": "code",
   "execution_count": 39,
   "metadata": {},
   "outputs": [
    {
     "data": {
      "text/plain": [
       "array([8, 3, 1, 9, 5, 2, 4, 7, 6, 0])"
      ]
     },
     "execution_count": 39,
     "metadata": {},
     "output_type": "execute_result"
    }
   ],
   "source": [
    "np.random.permutation(10)"
   ]
  },
  {
   "cell_type": "markdown",
   "metadata": {},
   "source": [
    "We can also enter an array as an input"
   ]
  },
  {
   "cell_type": "code",
   "execution_count": 41,
   "metadata": {},
   "outputs": [
    {
     "data": {
      "text/plain": [
       "array([  0, -12,  11,  -7,  15, -16,  -2,   3,   5,   8])"
      ]
     },
     "execution_count": 41,
     "metadata": {},
     "output_type": "execute_result"
    }
   ],
   "source": [
    "np.random.permutation([-16, -12, -7, -2, 0, 3, 5, 8, 11, 15])"
   ]
  },
  {
   "cell_type": "markdown",
   "metadata": {},
   "source": [
    "And same as with *shuffle* function, if our input is a multi-dimensional array, it is only shuffled along its first index."
   ]
  },
  {
   "cell_type": "code",
   "execution_count": 66,
   "metadata": {},
   "outputs": [
    {
     "name": "stdout",
     "output_type": "stream",
     "text": [
      "Array generated:\n",
      "[[ 0  1  2  3]\n",
      " [ 4  5  6  7]\n",
      " [ 8  9 10 11]\n",
      " [12 13 14 15]]\n",
      "\n",
      "Array permuted:\n",
      "[[ 4  5  6  7]\n",
      " [12 13 14 15]\n",
      " [ 8  9 10 11]\n",
      " [ 0  1  2  3]]\n"
     ]
    }
   ],
   "source": [
    "# we generate a new array\n",
    "newArr = np.arange(16).reshape((4, 4))\n",
    "print(\"Array generated:\")\n",
    "print(newArr)\n",
    "print()\n",
    "print(\"Array permuted:\")\n",
    "# we permute it\n",
    "arrPer = np.random.permutation(newArr)\n",
    "print(arrPer)"
   ]
  },
  {
   "cell_type": "markdown",
   "metadata": {},
   "source": [
    "## 3) Distributions\n",
    "There is a number of different distributions and numpy provides commands to draw samples from many of them:"
   ]
  },
  {
   "cell_type": "code",
   "execution_count": 124,
   "metadata": {},
   "outputs": [
    {
     "data": {
      "text/plain": [
       "0.001"
      ]
     },
     "execution_count": 124,
     "metadata": {},
     "output_type": "execute_result"
    }
   ],
   "source": [
    "sum(np.random.binomial(10,0.5, 1000) == 0)/1000"
   ]
  },
  {
   "cell_type": "markdown",
   "metadata": {},
   "source": [
    "### 3. ) *Triangular*\n",
    "This particular continuous probability distribution allows user to define the shape of the plot with three parameters: the lower limit left, the mode that represents the peak at the top, and the upper limit right. In the example below we set the samples to draw to be between -3 and 17  on the horizontal axis being the top peak at the height of 12 on the horizontal axis as well"
   ]
  },
  {
   "cell_type": "code",
   "execution_count": 147,
   "metadata": {},
   "outputs": [
    {
     "data": {
      "image/png": "[encoded data removed]",
      "text/plain": [
       "<Figure size 432x288 with 1 Axes>"
      ]
     },
     "metadata": {},
     "output_type": "display_data"
    }
   ],
   "source": [
    "h = plt.hist(np.random.triangular(-10, 12, 17, 1000000), bins=300, density=True)\n",
    "plt.show()"
   ]
  },
  {
   "cell_type": "markdown",
   "metadata": {},
   "source": [
    "# References:\n",
    "https://docs.scipy.org/doc/numpy-1.14.1/reference/routines.random.html\n",
    "https://chrisalbon.com/python/basics/generating_random_numbers_with_numpy/\n",
    "https://en.wikipedia.org/wiki/Discrete_uniform_distribution \n",
    "(z) [stackoverflow](https://stackoverflow.com/questions/47231852/np-random-rand-vs-np-random-random)\n",
    "[aliases](https://stackoverflow.com/questions/18829185/difference-between-various-numpy-random-functions?noredirect=1&lq=1)"
   ]
  },
  {
   "cell_type": "code",
   "execution_count": null,
   "metadata": {},
   "outputs": [],
   "source": []
  },
  {
   "cell_type": "code",
   "execution_count": null,
   "metadata": {},
   "outputs": [],
   "source": []
  }
 ],
 "metadata": {
  "kernelspec": {
   "display_name": "Python 3",
   "language": "python",
   "name": "python3"
  },
  "language_info": {
   "codemirror_mode": {
    "name": "ipython",
    "version": 3
   },
   "file_extension": ".py",
   "mimetype": "text/x-python",
   "name": "python",
   "nbconvert_exporter": "python",
   "pygments_lexer": "ipython3",
   "version": "3.6.5"
  }
 },
 "nbformat": 4,
 "nbformat_minor": 2
}
