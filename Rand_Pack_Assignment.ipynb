{
 "cells": [
  {
   "cell_type": "markdown",
   "metadata": {},
   "source": [
    "# The Numpy random package\n",
    "### Carlos Montes   -   November 2018"
   ]
  },
  {
   "cell_type": "markdown",
   "metadata": {},
   "source": [
    "## 1) Simple random data"
   ]
  },
  {
   "cell_type": "code",
   "execution_count": 11,
   "metadata": {
    "scrolled": true
   },
   "outputs": [],
   "source": [
    "# First of all we need to import the package. We also rename it as np to ease its use\n",
    "import numpy as np"
   ]
  },
  {
   "cell_type": "markdown",
   "metadata": {},
   "source": [
    "### 1.1) rand\n",
    "We can generate a single float between 0 and 1, being 1 excluded [0,1), by leaving out the arguments. With all this commands, whenever we don't pass arguments we get one single value."
   ]
  },
  {
   "cell_type": "code",
   "execution_count": 23,
   "metadata": {},
   "outputs": [
    {
     "data": {
      "text/plain": [
       "0.4930957133063524"
      ]
     },
     "execution_count": 23,
     "metadata": {},
     "output_type": "execute_result"
    }
   ],
   "source": [
    "np.random.rand()"
   ]
  },
  {
   "cell_type": "code",
   "execution_count": 24,
   "metadata": {},
   "outputs": [
    {
     "data": {
      "text/plain": [
       "array([[0.47891784, 0.57823257, 0.51450413],\n",
       "       [0.72957918, 0.02396064, 0.71783672],\n",
       "       [0.52313278, 0.19589111, 0.25651549],\n",
       "       [0.20451557, 0.73012195, 0.67137668]])"
      ]
     },
     "execution_count": 24,
     "metadata": {},
     "output_type": "execute_result"
    }
   ],
   "source": [
    "# We can also get an array with random values from a uniform distribution. The numbers within the parentheses shape the array.\n",
    "# The first one specifies the numbers of arrays within the array, the second shows the number of values within each array\n",
    "np.random.rand(4,3)\n",
    "# The result is an n-dimensional array, an array of arrays, which is a 2 dimensional array. The first argument, number 4, \n",
    "# represents the number of subarrays within the array whereas the second argument -3- shows the number of elements within \n",
    "# every subarray. "
   ]
  },
  {
   "cell_type": "code",
   "execution_count": 20,
   "metadata": {
    "scrolled": true
   },
   "outputs": [
    {
     "data": {
      "text/plain": [
       "array([[[0.72077198, 0.04563786],\n",
       "        [0.22134135, 0.51896203],\n",
       "        [0.49832183, 0.86433184]],\n",
       "\n",
       "       [[0.73943143, 0.16555873],\n",
       "        [0.45781062, 0.31412087],\n",
       "        [0.80461189, 0.60365558]],\n",
       "\n",
       "       [[0.19316201, 0.66835105],\n",
       "        [0.46497217, 0.49785591],\n",
       "        [0.34157661, 0.86717195]],\n",
       "\n",
       "       [[0.99542084, 0.62699626],\n",
       "        [0.2613822 , 0.49364669],\n",
       "        [0.96089357, 0.01250429]]])"
      ]
     },
     "execution_count": 20,
     "metadata": {},
     "output_type": "execute_result"
    }
   ],
   "source": [
    "# if we add a third parameter\n",
    "np.random.rand(4,3,2)\n",
    "# we get a 3-dimensional array where the subarrays are made up of 2 elements each"
   ]
  },
  {
   "cell_type": "markdown",
   "metadata": {},
   "source": [
    "### 1.2) randn\n",
    "This command generates an array of data with the same shape as the one explained above but in this case we can specify the median around which we want the samples to be. Also the variance can be an input, the greater it is the bigger the dispersion of the sample in relation to the mean. This is a univariative normal disribution also known as Gauss distribution which has typical bell-like shape.\n",
    "\n",
    "variance * np.random.randn(...) + median"
   ]
  },
  {
   "cell_type": "code",
   "execution_count": 34,
   "metadata": {},
   "outputs": [
    {
     "data": {
      "text/plain": [
       "array([[6.11517539, 5.90274274],\n",
       "       [5.75917424, 6.02703061],\n",
       "       [6.34236494, 6.1981922 ]])"
      ]
     },
     "execution_count": 34,
     "metadata": {},
     "output_type": "execute_result"
    }
   ],
   "source": [
    "0.5 * np.random.randn(3,2) + 6\n",
    "# All the samples outputed are relatively near the median, 6"
   ]
  },
  {
   "cell_type": "code",
   "execution_count": 35,
   "metadata": {},
   "outputs": [
    {
     "data": {
      "text/plain": [
       "array([[ 2.14751811, 10.06035613],\n",
       "       [ 3.18798053,  5.30838364],\n",
       "       [ 9.64975214,  6.37724051]])"
      ]
     },
     "execution_count": 35,
     "metadata": {},
     "output_type": "execute_result"
    }
   ],
   "source": [
    "3 * np.random.randn(3,2) + 6\n",
    "# All the samples outputed are further to the median because the variance is greater"
   ]
  },
  {
   "cell_type": "code",
   "execution_count": null,
   "metadata": {},
   "outputs": [],
   "source": []
  },
  {
   "cell_type": "code",
   "execution_count": null,
   "metadata": {},
   "outputs": [],
   "source": []
  },
  {
   "cell_type": "code",
   "execution_count": null,
   "metadata": {},
   "outputs": [],
   "source": []
  },
  {
   "cell_type": "code",
   "execution_count": null,
   "metadata": {},
   "outputs": [],
   "source": []
  },
  {
   "cell_type": "code",
   "execution_count": null,
   "metadata": {},
   "outputs": [],
   "source": []
  },
  {
   "cell_type": "raw",
   "metadata": {},
   "source": [
    "### 1.3) standard_normal\n",
    "Similar to randn, it also takes a tuple of integers as its argument.\n",
    "We can output its shape however it was inputed:"
   ]
  },
  {
   "cell_type": "code",
   "execution_count": 67,
   "metadata": {
    "scrolled": false
   },
   "outputs": [
    {
     "data": {
      "text/plain": [
       "(3000,)"
      ]
     },
     "execution_count": 67,
     "metadata": {},
     "output_type": "execute_result"
    }
   ],
   "source": [
    "x = np.random.standard_normal(3000)\n",
    "x.shape"
   ]
  },
  {
   "cell_type": "code",
   "execution_count": 69,
   "metadata": {
    "scrolled": true
   },
   "outputs": [
    {
     "data": {
      "text/plain": [
       "(7, 3, 5)"
      ]
     },
     "execution_count": 69,
     "metadata": {},
     "output_type": "execute_result"
    }
   ],
   "source": [
    "y = np.random.standard_normal(size=(7, 3, 5))\n",
    "y.shape"
   ]
  }
 ],
 "metadata": {
  "kernelspec": {
   "display_name": "Python 3",
   "language": "python",
   "name": "python3"
  },
  "language_info": {
   "codemirror_mode": {
    "name": "ipython",
    "version": 3
   },
   "file_extension": ".py",
   "mimetype": "text/x-python",
   "name": "python",
   "nbconvert_exporter": "python",
   "pygments_lexer": "ipython3",
   "version": "3.6.5"
  }
 },
 "nbformat": 4,
 "nbformat_minor": 2
}
